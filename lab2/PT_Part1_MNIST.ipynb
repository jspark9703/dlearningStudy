{
  "cells": [
    {
      "cell_type": "markdown",
      "metadata": {
        "id": "view-in-github",
        "colab_type": "text"
      },
      "source": [
        "<a href=\"https://colab.research.google.com/github/jspark9703/dlearningStudy/blob/twist/lab2/PT_Part1_MNIST.ipynb\" target=\"_parent\"><img src=\"https://colab.research.google.com/assets/colab-badge.svg\" alt=\"Open In Colab\"/></a>"
      ]
    },
    {
      "cell_type": "markdown",
      "metadata": {
        "id": "Xmf_JRJa_N8C"
      },
      "source": [
        "<table align=\"center\">\n",
        "  <td align=\"center\"><a target=\"_blank\" href=\"http://introtodeeplearning.com\">\n",
        "        <img src=\"https://i.ibb.co/Jr88sn2/mit.png\" style=\"padding-bottom:5px;\" />\n",
        "      Visit MIT Deep Learning</a></td>\n",
        "  <td align=\"center\"><a target=\"_blank\" href=\"https://colab.research.google.com/github/MITDeepLearning/introtodeeplearning/blob/master/lab2/PT_Part1_MNIST.ipynb\">\n",
        "        <img src=\"https://i.ibb.co/2P3SLwK/colab.png\"  style=\"padding-bottom:5px;\" />Run in Google Colab</a></td>\n",
        "  <td align=\"center\"><a target=\"_blank\" href=\"https://github.com/MITDeepLearning/introtodeeplearning/blob/master/lab2/PT_Part1_MNIST.ipynb\">\n",
        "        <img src=\"https://i.ibb.co/xfJbPmL/github.png\"  height=\"70px\" style=\"padding-bottom:5px;\"  />View Source on GitHub</a></td>\n",
        "</table>\n",
        "\n",
        "# Copyright Information"
      ]
    },
    {
      "cell_type": "code",
      "execution_count": 2,
      "metadata": {
        "id": "gKA_J7bdP33T"
      },
      "outputs": [],
      "source": [
        "# Copyright 2025 MIT Introduction to Deep Learning. All Rights Reserved.\n",
        "#\n",
        "# Licensed under the MIT License. You may not use this file except in compliance\n",
        "# with the License. Use and/or modification of this code outside of MIT Introduction\n",
        "# to Deep Learning must reference:\n",
        "#\n",
        "# © MIT Introduction to Deep Learning\n",
        "# http://introtodeeplearning.com\n",
        "#"
      ]
    },
    {
      "cell_type": "markdown",
      "metadata": {
        "id": "Cm1XpLftPi4A"
      },
      "source": [
        "# Laboratory 2: Computer Vision\n",
        "\n",
        "# Part 1: MNIST Digit Classification\n",
        "\n",
        "In the first portion of this lab, we will build and train a convolutional neural network (CNN) for classification of handwritten digits from the famous [MNIST](http://yann.lecun.com/exdb/mnist/) dataset. The MNIST dataset consists of 60,000 training images and 10,000 test images. Our classes are the digits 0-9.\n",
        "\n",
        "First, let's download the course repository, install dependencies, and import the relevant packages we'll need for this lab."
      ]
    },
    {
      "cell_type": "code",
      "execution_count": 1,
      "metadata": {
        "id": "RsGqx_ai_N8F"
      },
      "outputs": [],
      "source": [
        "# Import PyTorch and other relevant libraries\n",
        "import torch\n",
        "import torch.nn as nn\n",
        "import torch.optim as optim\n",
        "import torchvision\n",
        "import torchvision.datasets as datasets\n",
        "import torchvision.transforms as transforms\n",
        "from torch.utils.data import DataLoader\n",
        "from torchsummary import summary\n",
        "\n",
        "# MIT introduction to deep learning package\n",
        "!pip install mitdeeplearning --quiet\n",
        "import mitdeeplearning as mdl\n",
        "\n",
        "# other packages\n",
        "import matplotlib.pyplot as plt\n",
        "import numpy as np\n",
        "import random\n",
        "from tqdm import tqdm"
      ]
    },
    {
      "cell_type": "markdown",
      "metadata": {
        "id": "nCpHDxX1bzyZ"
      },
      "source": [
        "We'll also install Comet. If you followed the instructions from Lab 1, you should have your Comet account set up. Enter your API key below."
      ]
    },
    {
      "cell_type": "code",
      "execution_count": 2,
      "metadata": {
        "id": "GSR_PAqjbzyZ",
        "colab": {
          "base_uri": "https://localhost:8080/"
        },
        "outputId": "49d9ed28-2637-4fc4-ea46-18fec89f8d4f"
      },
      "outputs": [
        {
          "output_type": "stream",
          "name": "stderr",
          "text": [
            "/usr/local/lib/python3.11/dist-packages/comet_ml/error_tracking/shutdown.py:22: SentryHubDeprecationWarning: `sentry_sdk.Hub` is deprecated and will be removed in a future major release. Please consult our 1.x to 2.x migration guide for details on how to migrate `Hub` usage to the new API: https://docs.sentry.io/platforms/python/migration/1.x-to-2.x\n",
            "  client = sentry_sdk.Hub.current.client\n"
          ]
        }
      ],
      "source": [
        "!pip install comet_ml > /dev/null 2>&1\n",
        "import comet_ml\n",
        "# TODO: ENTER YOUR API KEY HERE!!\n",
        "COMET_API_KEY = \"\"\n",
        "\n",
        "# Check that we are using a GPU, if not switch runtimes\n",
        "#   using Runtime > Change Runtime Type > GPU\n",
        "assert torch.cuda.is_available(), \"Please enable GPU from runtime settings\"\n",
        "# assert COMET_API_KEY != \"\", \"Please insert your Comet API Key\"\n",
        "\n",
        "# Set GPU for computation\n",
        "device = torch.device(\"cuda\" if torch.cuda.is_available() else \"cpu\")"
      ]
    },
    {
      "cell_type": "code",
      "execution_count": 3,
      "metadata": {
        "id": "wGPDtVxvTtPk",
        "colab": {
          "base_uri": "https://localhost:8080/"
        },
        "outputId": "71cec22b-c963-48e4-e4af-4bb8d38f0ef8"
      },
      "outputs": [
        {
          "output_type": "stream",
          "name": "stderr",
          "text": [
            "\u001b[1;38;5;214mCOMET WARNING:\u001b[0m comet_ml.init() is deprecated and will be removed soon. Please use comet_ml.login()\n",
            "\u001b[1;38;5;214mCOMET WARNING:\u001b[0m To get all data logged automatically, import comet_ml before the following modules: sklearn, torch, keras, tensorflow.\n",
            "\u001b[1;38;5;214mCOMET WARNING:\u001b[0m As you are running in a Jupyter environment, you will need to call `experiment.end()` when finished to ensure all metrics and code are logged before exiting.\n",
            "\u001b[1;38;5;39mCOMET INFO:\u001b[0m Experiment is live on comet.com https://www.comet.com/jspark9703/6s191-lab2-part1-nn/6c4cfaa2207f42618256702bde044b42\n",
            "\n",
            "\u001b[1;38;5;214mCOMET WARNING:\u001b[0m To get all data logged automatically, import comet_ml before the following modules: sklearn, torch, keras, tensorflow.\n",
            "\u001b[1;38;5;214mCOMET WARNING:\u001b[0m Not all initial data has been logged for experiment 6c4cfaa2207f42618256702bde044b42, call Experiment.end() to ensure that all data to have been logged\n",
            "\u001b[1;38;5;39mCOMET INFO:\u001b[0m Couldn't find a Git repository in '/content' nor in any parent directory. Set `COMET_GIT_DIRECTORY` if your Git Repository is elsewhere.\n",
            "\u001b[1;38;5;39mCOMET INFO:\u001b[0m ---------------------------------------------------------------------------------------\n",
            "\u001b[1;38;5;39mCOMET INFO:\u001b[0m Comet.ml Experiment Summary\n",
            "\u001b[1;38;5;39mCOMET INFO:\u001b[0m ---------------------------------------------------------------------------------------\n",
            "\u001b[1;38;5;39mCOMET INFO:\u001b[0m   Data:\n",
            "\u001b[1;38;5;39mCOMET INFO:\u001b[0m     display_summary_level : 1\n",
            "\u001b[1;38;5;39mCOMET INFO:\u001b[0m     name                  : clever_crumble_3173\n",
            "\u001b[1;38;5;39mCOMET INFO:\u001b[0m     url                   : https://www.comet.com/jspark9703/6s191-lab2-part1-nn/6c4cfaa2207f42618256702bde044b42\n",
            "\u001b[1;38;5;39mCOMET INFO:\u001b[0m   Others:\n",
            "\u001b[1;38;5;39mCOMET INFO:\u001b[0m     notebook_url : https://colab.research.google.com/notebook#fileId=https%3A%2F%2Fgithub.com%2Fjspark9703%2FdlearningStudy%2Fblob%2Fmain%2Flab2%2FPT_Part1_MNIST.ipynb\n",
            "\u001b[1;38;5;39mCOMET INFO:\u001b[0m   Uploads:\n",
            "\u001b[1;38;5;39mCOMET INFO:\u001b[0m     environment details : 1\n",
            "\u001b[1;38;5;39mCOMET INFO:\u001b[0m     filename            : 1\n",
            "\u001b[1;38;5;39mCOMET INFO:\u001b[0m     installed packages  : 1\n",
            "\u001b[1;38;5;39mCOMET INFO:\u001b[0m     notebook            : 2\n",
            "\u001b[1;38;5;39mCOMET INFO:\u001b[0m     os packages         : 1\n",
            "\u001b[1;38;5;39mCOMET INFO:\u001b[0m     source_code         : 1\n",
            "\u001b[1;38;5;39mCOMET INFO:\u001b[0m \n",
            "\u001b[1;38;5;214mCOMET WARNING:\u001b[0m To get all data logged automatically, import comet_ml before the following modules: sklearn, torch, keras, tensorflow.\n",
            "\u001b[1;38;5;214mCOMET WARNING:\u001b[0m As you are running in a Jupyter environment, you will need to call `experiment.end()` when finished to ensure all metrics and code are logged before exiting.\n",
            "\u001b[1;38;5;39mCOMET INFO:\u001b[0m Couldn't find a Git repository in '/content' nor in any parent directory. Set `COMET_GIT_DIRECTORY` if your Git Repository is elsewhere.\n",
            "\u001b[1;38;5;39mCOMET INFO:\u001b[0m Experiment is live on comet.com https://www.comet.com/jspark9703/6s191-lab2-part1-nn/5a87ab980df84705ba162734d66e6cf8\n",
            "\n",
            "\u001b[1;38;5;214mCOMET WARNING:\u001b[0m To get all data logged automatically, import comet_ml before the following modules: sklearn, torch, keras, tensorflow.\n",
            "\u001b[1;38;5;39mCOMET INFO:\u001b[0m ---------------------------------------------------------------------------------------\n",
            "\u001b[1;38;5;39mCOMET INFO:\u001b[0m Comet.ml Experiment Summary\n",
            "\u001b[1;38;5;39mCOMET INFO:\u001b[0m ---------------------------------------------------------------------------------------\n",
            "\u001b[1;38;5;39mCOMET INFO:\u001b[0m   Data:\n",
            "\u001b[1;38;5;39mCOMET INFO:\u001b[0m     display_summary_level : 1\n",
            "\u001b[1;38;5;39mCOMET INFO:\u001b[0m     name                  : shivering_expenditure_8305\n",
            "\u001b[1;38;5;39mCOMET INFO:\u001b[0m     url                   : https://www.comet.com/jspark9703/6s191-lab2-part1-nn/5a87ab980df84705ba162734d66e6cf8\n",
            "\u001b[1;38;5;39mCOMET INFO:\u001b[0m   Others:\n",
            "\u001b[1;38;5;39mCOMET INFO:\u001b[0m     notebook_url : https://colab.research.google.com/notebook#fileId=https%3A%2F%2Fgithub.com%2Fjspark9703%2FdlearningStudy%2Fblob%2Fmain%2Flab2%2FPT_Part1_MNIST.ipynb\n",
            "\u001b[1;38;5;39mCOMET INFO:\u001b[0m   Uploads:\n",
            "\u001b[1;38;5;39mCOMET INFO:\u001b[0m     environment details : 1\n",
            "\u001b[1;38;5;39mCOMET INFO:\u001b[0m     filename            : 1\n",
            "\u001b[1;38;5;39mCOMET INFO:\u001b[0m     installed packages  : 1\n",
            "\u001b[1;38;5;39mCOMET INFO:\u001b[0m     notebook            : 2\n",
            "\u001b[1;38;5;39mCOMET INFO:\u001b[0m     os packages         : 1\n",
            "\u001b[1;38;5;39mCOMET INFO:\u001b[0m     source_code         : 1\n",
            "\u001b[1;38;5;39mCOMET INFO:\u001b[0m \n",
            "\u001b[1;38;5;214mCOMET WARNING:\u001b[0m To get all data logged automatically, import comet_ml before the following modules: sklearn, torch, keras, tensorflow.\n",
            "\u001b[1;38;5;214mCOMET WARNING:\u001b[0m As you are running in a Jupyter environment, you will need to call `experiment.end()` when finished to ensure all metrics and code are logged before exiting.\n",
            "\u001b[1;38;5;39mCOMET INFO:\u001b[0m Experiment is live on comet.com https://www.comet.com/jspark9703/6s191-lab2-part1-nn/f2f550b995cb4470940b08ea26293a0f\n",
            "\n",
            "\u001b[1;38;5;39mCOMET INFO:\u001b[0m Couldn't find a Git repository in '/content' nor in any parent directory. Set `COMET_GIT_DIRECTORY` if your Git Repository is elsewhere.\n"
          ]
        }
      ],
      "source": [
        "# start a first comet experiment for the first part of the lab\n",
        "comet_ml.init(project_name=\"6S191_lab2_part1_NN\")\n",
        "comet_model_1 = comet_ml.Experiment()\n",
        "comet_model_2 = comet_ml.Experiment()\n",
        "comet_model_3 = comet_ml.Experiment()"
      ]
    },
    {
      "cell_type": "markdown",
      "metadata": {
        "id": "HKjrdUtX_N8J"
      },
      "source": [
        "## 1.1 MNIST dataset\n",
        "\n",
        "Let's download and load the dataset and display a few random samples from it:"
      ]
    },
    {
      "cell_type": "code",
      "execution_count": 4,
      "metadata": {
        "id": "G1Bryi5ssUNX"
      },
      "outputs": [],
      "source": [
        "# Download and transform the MNIST dataset\n",
        "transform = transforms.Compose([\n",
        "    # Convert images to PyTorch tensors which also scales data from [0,255] to [0,1]\n",
        "    transforms.ToTensor()\n",
        "])\n",
        "# 테스트셋 변환 정의: 무작위 회전, 확대/축소, 시프트 등 포함\n",
        "test_aug_transform = transforms.Compose([\n",
        "    transforms.RandomAffine(degrees=90,  # 회전 최대 ±90도\n",
        "                            translate=(0.3, 0.3),  # 수평, 수직 이동 최대 30%\n",
        "                            scale=(0.8, 1.2)),     # 80~120% 크기 조정\n",
        "    transforms.ToTensor()\n",
        "])\n",
        "\n",
        "# 새롭게 변형된 테스트셋 정의\n",
        "augmented_test_dataset = datasets.MNIST(\n",
        "    root='./data',\n",
        "    train=False,\n",
        "    download=True,\n",
        "    transform=test_aug_transform\n",
        ")\n",
        "augmented_train_dataset = datasets.MNIST(\n",
        "    root='./data',\n",
        "    train=True,\n",
        "    download=True,\n",
        "    transform=test_aug_transform\n",
        ")\n",
        "\n",
        "# Download training and test datasets\n",
        "# train_dataset = datasets.MNIST(root='./data', train=True, download=True, transform=transform)\n",
        "augmented_train_loader = DataLoader(augmented_train_dataset, batch_size=64, shuffle=False)\n",
        "\n",
        "augmented_test_loader = DataLoader(augmented_test_dataset, batch_size=64, shuffle=False)\n"
      ]
    },
    {
      "cell_type": "markdown",
      "metadata": {
        "id": "D_AhlQB4sUNX"
      },
      "source": [
        "The MNIST dataset object in PyTorch is not a simple tensor or array. It's an iterable dataset that loads samples (image-label pairs) one at a time or in batches. In a later section of this lab, we will define a handy DataLoader to process the data in batches."
      ]
    },
    {
      "cell_type": "code",
      "execution_count": 5,
      "metadata": {
        "id": "LpxeLuaysUNX",
        "colab": {
          "base_uri": "https://localhost:8080/"
        },
        "outputId": "83dc8d2d-f313-4a14-a5af-a4a1f0854ba6"
      },
      "outputs": [
        {
          "output_type": "stream",
          "name": "stdout",
          "text": [
            "torch.Size([64, 1, 28, 28])\n",
            "tensor(5)\n"
          ]
        }
      ],
      "source": [
        "data_iter = iter(augmented_train_loader)\n",
        "images, labels = next(data_iter)\n",
        "\n",
        "print(images.size())  # For a tensor: torch.Size([1, 28, 28])\n",
        "print(labels[0])  # For a label: integer (e.g., 5)"
      ]
    },
    {
      "cell_type": "markdown",
      "metadata": {
        "id": "5ZtUqOqePsRD"
      },
      "source": [
        "Our training set is made up of 28x28 grayscale images of handwritten digits.\n",
        "\n",
        "Let's visualize what some of these images and their corresponding training labels look like."
      ]
    },
    {
      "cell_type": "code",
      "execution_count": 6,
      "metadata": {
        "id": "bDBsR2lP_N8O",
        "scrolled": true,
        "colab": {
          "base_uri": "https://localhost:8080/",
          "height": 1000
        },
        "outputId": "c026f073-4b52-4eb8-a444-460a72a66b6a"
      },
      "outputs": [
        {
          "output_type": "display_data",
          "data": {
            "text/plain": [
              "<Figure size 1000x1000 with 36 Axes>"
            ],
            "image/png": "[encoded data removed]"
          },
          "metadata": {}
        }
      ],
      "source": [
        "import numpy as np\n",
        "import matplotlib.pyplot as plt\n",
        "\n",
        "# DataLoader에서 데이터 가져오기\n",
        "data_iter = iter(augmented_train_loader)\n",
        "batch_images, batch_labels = next(data_iter)  # batch_images: (64, 1, 28, 28)\n",
        "\n",
        "# 시각화용 배치에서 무작위 36개 추출\n",
        "plt.figure(figsize=(10, 10))\n",
        "random_inds = np.random.choice(len(batch_images), 36, replace=False)\n",
        "\n",
        "for i, idx in enumerate(random_inds):\n",
        "    image = batch_images[idx].squeeze(0)  # (1, 28, 28) → (28, 28)\n",
        "    label = batch_labels[idx].item()\n",
        "\n",
        "    plt.subplot(6, 6, i + 1)\n",
        "    plt.imshow(image, cmap=plt.cm.binary)\n",
        "    plt.xticks([])\n",
        "    plt.yticks([])\n",
        "    plt.grid(False)\n",
        "    plt.xlabel(str(label))\n",
        "\n",
        "plt.tight_layout()\n",
        "plt.show()\n",
        "\n",
        "# Comet에 시각화 결과 로깅\n",
        "comet_model_1.log_figure(figure=plt)\n"
      ]
    },
    {
      "cell_type": "markdown",
      "metadata": {
        "id": "V6hd3Nt1_N8q"
      },
      "source": [
        "## 1.2 Neural Network for Handwritten Digit Classification\n",
        "\n",
        "We'll first build a simple neural network consisting of two fully connected layers and apply this to the digit classification task. Our network will ultimately output a probability distribution over the 10 digit classes (0-9). This first architecture we will be building is depicted below:\n",
        "\n",
        "![alt_text](https://raw.githubusercontent.com/MITDeepLearning/introtodeeplearning/master/lab2/img/mnist_2layers_arch.png \"CNN Architecture for MNIST Classification\")\n"
      ]
    },
    {
      "cell_type": "markdown",
      "metadata": {
        "id": "rphS2rMIymyZ"
      },
      "source": [
        "### Fully connected neural network architecture\n",
        "To define the architecture of this first fully connected neural network, we'll once again use the the `torch.nn` modules, defining the model using [`nn.Sequential`](https://pytorch.org/docs/stable/generated/torch.nn.Sequential.html). Note how we first use a [`nn.Flatten`](https://www.tensorflow.org/api_docs/python/tf/keras/layers/Flatten) layer, which flattens the input so that it can be fed into the model.\n",
        "\n",
        "In this next block, you'll define the fully connected layers of this simple network."
      ]
    },
    {
      "cell_type": "code",
      "execution_count": 7,
      "metadata": {
        "id": "MMZsbjAkDKpU"
      },
      "outputs": [],
      "source": [
        "def build_fc_model():\n",
        "    fc_model = nn.Sequential(\n",
        "        # First define a Flatten layer\n",
        "        nn.Flatten(),\n",
        "\n",
        "        # '''TODO: Define the activation function for the first fully connected (Dense/Linear) layer.'''\n",
        "        nn.Linear(28 * 28, 128),\n",
        "        nn.ReLU(),\n",
        "        nn.Linear(128, 10)\n",
        "        )\n",
        "    return fc_model\n",
        "\n",
        "fc_model_sequential = build_fc_model()"
      ]
    },
    {
      "cell_type": "markdown",
      "metadata": {
        "id": "VtGZpHVKz5Jt"
      },
      "source": [
        "As we progress through this next portion, you may find that you'll want to make changes to the architecture defined above. **Note that in order to update the model later on, you'll need to re-run the above cell to re-initialize the model.**"
      ]
    },
    {
      "cell_type": "markdown",
      "metadata": {
        "id": "mVN1_AeG_N9N"
      },
      "source": [
        "Let's take a step back and think about the network we've just created. The first layer in this network, `nn.Flatten`, transforms the format of the images from a 2d-array (28 x 28 pixels), to a 1d-array of 28 * 28 = 784 pixels. You can think of this layer as unstacking rows of pixels in the image and lining them up. There are no learned parameters in this layer; it only reformats the data.\n",
        "\n",
        "After the pixels are flattened, the network consists of a sequence of two `nn.Linear` layers. These are fully-connected neural layers. The first `nn.Linear` layer has 128 nodes (or neurons). The second (and last) layer (which you've defined!) should return an array of probability scores that sum to 1. Each node contains a score that indicates the probability that the current image belongs to one of the handwritten digit classes.\n",
        "\n",
        "That defines our fully connected model!"
      ]
    },
    {
      "cell_type": "markdown",
      "metadata": {
        "id": "kquVpHqPsUNX"
      },
      "source": [
        "### Embracing subclassing in PyTorch"
      ]
    },
    {
      "cell_type": "markdown",
      "metadata": {
        "id": "RyqD3eJgsUNX"
      },
      "source": [
        "Recall that in Lab 1, we explored creating more flexible models by subclassing [`nn.Module`](https://pytorch.org/docs/stable/generated/torch.nn.Module.html). This technique of defining models is more commonly used in PyTorch. We will practice using this approach of subclassing to define our models for the rest of the lab."
      ]
    },
    {
      "cell_type": "code",
      "execution_count": 8,
      "metadata": {
        "id": "7JhFJXjYsUNX"
      },
      "outputs": [],
      "source": [
        "# Define the fully connected model\n",
        "class FullyConnectedModel(nn.Module):\n",
        "    def __init__(self):\n",
        "        super(FullyConnectedModel, self).__init__()\n",
        "        self.flatten = nn.Flatten()\n",
        "        self.fc1 = nn.Linear(28 * 28, 128)\n",
        "\n",
        "        # '''TODO: Define the activation function for the first fully connected layer'''\n",
        "        self.relu = nn.ReLU()\n",
        "\n",
        "        # '''TODO: Define the second Linear layer to output the classification probabilities'''\n",
        "        self.fc2 = nn.Linear(128, 10)\n",
        "    def forward(self, x):\n",
        "        x = self.flatten(x)\n",
        "        x = self.fc1(x)\n",
        "        x = self.relu(x)\n",
        "        x = self.fc2(x)\n",
        "        return x\n",
        "\n",
        "\n",
        "fc_model1 = FullyConnectedModel().to(device) # send the model to GPU\n",
        "fc_model2 = FullyConnectedModel().to(device) # send the model to GPU\n",
        "fc_model3 = FullyConnectedModel().to(device) # send the model to GPU"
      ]
    },
    {
      "cell_type": "markdown",
      "metadata": {
        "id": "gut8A_7rCaW6"
      },
      "source": [
        "### Model Metrics and Training Parameters\n",
        "\n",
        "Before training the model, we need to define components that govern its performance and guide its learning process. These include the loss function, optimizer, and evaluation metrics:\n",
        "\n",
        "* *Loss function* — This defines how we measure how accurate the model is during training. As was covered in lecture, during training we want to minimize this function, which will \"steer\" the model in the right direction.\n",
        "* *Optimizer* — This defines how the model is updated based on the data it sees and its loss function.\n",
        "* *Metrics* — Here we can define metrics that we want to use to monitor the training and testing steps. In this example, we'll define and take a look at the *accuracy*, the fraction of the images that are correctly classified.\n",
        "\n",
        "We'll start out by using a stochastic gradient descent (SGD) optimizer initialized with a learning rate of 0.1. Since we are performing a categorical classification task, we'll want to use the [cross entropy loss](https://pytorch.org/docs/stable/generated/torch.nn.CrossEntropyLoss.html).\n",
        "\n",
        "You'll want to experiment with both the choice of optimizer and learning rate and evaluate how these affect the accuracy of the trained model."
      ]
    },
    {
      "cell_type": "code",
      "execution_count": 9,
      "metadata": {
        "id": "Lhan11blCaW7"
      },
      "outputs": [],
      "source": [
        "'''TODO: Experiment with different optimizers and learning rates. How do these affect\n",
        "    the accuracy of the trained model? Which optimizers and/or learning rates yield\n",
        "    the best performance?'''\n",
        "# Define loss function and optimizer\n",
        "loss_function = nn.CrossEntropyLoss()\n",
        "sdg_optimizer = optim.SGD(fc_model1.parameters(), lr=0.1)\n",
        "adam_optimizer1 = optim.Adam(fc_model2.parameters(), lr=0.1)\n",
        "adam_optimizer001 = optim.Adam(fc_model3.parameters(), lr=0.001)"
      ]
    },
    {
      "cell_type": "markdown",
      "metadata": {
        "id": "qKF6uW-BCaW-"
      },
      "source": [
        "### Train the model\n",
        "\n",
        "We're now ready to train our model, which will involve feeding the training data (`train_dataset`) into the model, and then asking it to learn the associations between images and labels. We'll also need to define the batch size and the number of epochs, or iterations over the MNIST dataset, to use during training. This dataset consists of a (image, label) tuples that we will iteratively access in batches.\n",
        "\n",
        "In Lab 1, we saw how we can use the [`.backward()`](https://pytorch.org/docs/stable/generated/torch.Tensor.backward.html) method to optimize losses and train models with stochastic gradient descent. In this section, we will define a function to train the model using `.backward()` and `optimizer.step()` to automatically update our model parameters (weights and biases) as we saw in Lab 1.\n",
        "\n",
        "Recall, we mentioned in Section 1.1 that the MNIST dataset can be accessed iteratively in batches. Here, we will define a PyTorch [`DataLoader`](https://pytorch.org/docs/stable/data.html#torch.utils.data.DataLoader) that will enable us to do that."
      ]
    },
    {
      "cell_type": "code",
      "execution_count": 10,
      "metadata": {
        "id": "EFMbIqIvQ2X0"
      },
      "outputs": [],
      "source": [
        "# Create DataLoaders for batch processing\n",
        "BATCH_SIZE = 64\n",
        "# trainset_loader = DataLoader(augmented_train_loader, batch_size=BATCH_SIZE, shuffle=True)\n",
        "# testset_loader = DataLoader(test_dataset, batch_size=BATCH_SIZE, shuffle=False)"
      ]
    },
    {
      "cell_type": "code",
      "execution_count": 11,
      "metadata": {
        "id": "dfnnoDwEsUNY"
      },
      "outputs": [],
      "source": [
        "def train(model, dataloader, criterion, optimizer, epochs):\n",
        "    model.train()  # Set the model to training mode\n",
        "    for epoch in range(epochs):\n",
        "        total_loss = 0\n",
        "        correct_pred = 0\n",
        "        total_pred = 0\n",
        "\n",
        "        for images, labels in dataloader:\n",
        "            # Move tensors to GPU so compatible with model\n",
        "            images, labels = images.to(device), labels.to(device)\n",
        "\n",
        "            # Forward pass\n",
        "            outputs = model(images)\n",
        "\n",
        "            # Clear gradients before performing backward pass\n",
        "            optimizer.zero_grad()\n",
        "            # Calculate loss based on model predictions\n",
        "            loss = loss_function(outputs, labels)\n",
        "            # Backpropagate and update model parameters\n",
        "            loss.backward()\n",
        "            optimizer.step()\n",
        "\n",
        "            # multiply loss by total nos. of samples in batch\n",
        "            total_loss += loss.item()*images.size(0)\n",
        "\n",
        "            # Calculate accuracy\n",
        "            predicted = torch.argmax(outputs, dim=1)  # Get predicted class\n",
        "            correct_pred += (predicted == labels).sum().item()  # Count correct predictions\n",
        "            total_pred += labels.size(0) # Count total predictions\n",
        "\n",
        "        # Compute metrics\n",
        "        total_epoch_loss = total_loss / total_pred\n",
        "        epoch_accuracy = correct_pred / total_pred\n",
        "        print(f\"Epoch {epoch + 1}, Loss: {total_epoch_loss}, Accuracy: {epoch_accuracy:.4f}\")\n"
      ]
    },
    {
      "cell_type": "code",
      "execution_count": 12,
      "metadata": {
        "id": "kIpdv-H0sUNY",
        "colab": {
          "base_uri": "https://localhost:8080/"
        },
        "outputId": "31dc607c-bf59-41a1-f1fc-75972d8fea11"
      },
      "outputs": [
        {
          "output_type": "stream",
          "name": "stdout",
          "text": [
            "Epoch 1, Loss: 2.1376753189086912, Accuracy: 0.2245\n",
            "Epoch 2, Loss: 1.9018751679738362, Accuracy: 0.3239\n",
            "Epoch 3, Loss: 1.7280838356018067, Accuracy: 0.4008\n",
            "Epoch 4, Loss: 1.6143026396433513, Accuracy: 0.4513\n",
            "Epoch 5, Loss: 1.5283904788335165, Accuracy: 0.4842\n"
          ]
        }
      ],
      "source": [
        "# TODO: Train the model by calling the function appropriately\n",
        "EPOCHS = 5\n",
        "train(fc_model1, augmented_train_loader, loss_function, sdg_optimizer, EPOCHS) # TODO\n",
        "\n",
        "comet_model_1.end()\n"
      ]
    },
    {
      "cell_type": "code",
      "source": [
        "# TODO: Train the model by calling the function appropriately\n",
        "EPOCHS = 5\n",
        "train(fc_model2, augmented_train_loader, loss_function, adam_optimizer1, EPOCHS) # TODO\n",
        "\n",
        "comet_model_2.end()\n"
      ],
      "metadata": {
        "colab": {
          "base_uri": "https://localhost:8080/"
        },
        "id": "Nrlqx3rx2O6R",
        "outputId": "f8c4dfde-78f0-4eb8-8001-191a8bf5f256"
      },
      "execution_count": 13,
      "outputs": [
        {
          "output_type": "stream",
          "name": "stdout",
          "text": [
            "Epoch 1, Loss: 2.3480732471466066, Accuracy: 0.1036\n",
            "Epoch 2, Loss: 2.310522906366984, Accuracy: 0.1033\n",
            "Epoch 3, Loss: 2.310574570973714, Accuracy: 0.1030\n",
            "Epoch 4, Loss: 2.308455155690511, Accuracy: 0.1031\n",
            "Epoch 5, Loss: 2.308650967025757, Accuracy: 0.1036\n"
          ]
        }
      ]
    },
    {
      "cell_type": "code",
      "source": [
        "# TODO: Train the model by calling the function appropriately\n",
        "EPOCHS = 5\n",
        "train(fc_model3, augmented_train_loader, loss_function, adam_optimizer001, EPOCHS) # TODO\n",
        "\n",
        "comet_model_3.end()\n"
      ],
      "metadata": {
        "colab": {
          "base_uri": "https://localhost:8080/"
        },
        "id": "Wvz2j4nN2hzL",
        "outputId": "c09b8213-8818-477f-e15d-47ca252f10b9"
      },
      "execution_count": 14,
      "outputs": [
        {
          "output_type": "stream",
          "name": "stdout",
          "text": [
            "Epoch 1, Loss: 1.921032131322225, Accuracy: 0.3221\n",
            "Epoch 2, Loss: 1.5920867729187012, Accuracy: 0.4572\n",
            "Epoch 3, Loss: 1.4664469490687053, Accuracy: 0.5114\n",
            "Epoch 4, Loss: 1.3943555327097574, Accuracy: 0.5355\n",
            "Epoch 5, Loss: 1.3369447275797526, Accuracy: 0.5603\n"
          ]
        },
        {
          "output_type": "stream",
          "name": "stderr",
          "text": [
            "\u001b[1;38;5;39mCOMET INFO:\u001b[0m ---------------------------------------------------------------------------------------\n",
            "\u001b[1;38;5;39mCOMET INFO:\u001b[0m Comet.ml Experiment Summary\n",
            "\u001b[1;38;5;39mCOMET INFO:\u001b[0m ---------------------------------------------------------------------------------------\n",
            "\u001b[1;38;5;39mCOMET INFO:\u001b[0m   Data:\n",
            "\u001b[1;38;5;39mCOMET INFO:\u001b[0m     display_summary_level : 1\n",
            "\u001b[1;38;5;39mCOMET INFO:\u001b[0m     name                  : grumpy_termite_1515\n",
            "\u001b[1;38;5;39mCOMET INFO:\u001b[0m     url                   : https://www.comet.com/jspark9703/6s191-lab2-part1-nn/f2f550b995cb4470940b08ea26293a0f\n",
            "\u001b[1;38;5;39mCOMET INFO:\u001b[0m   Others:\n",
            "\u001b[1;38;5;39mCOMET INFO:\u001b[0m     notebook_url : https://colab.research.google.com/notebook#fileId=https%3A%2F%2Fgithub.com%2Fjspark9703%2FdlearningStudy%2Fblob%2Fmain%2Flab2%2FPT_Part1_MNIST.ipynb\n",
            "\u001b[1;38;5;39mCOMET INFO:\u001b[0m   Uploads:\n",
            "\u001b[1;38;5;39mCOMET INFO:\u001b[0m     environment details : 1\n",
            "\u001b[1;38;5;39mCOMET INFO:\u001b[0m     filename            : 1\n",
            "\u001b[1;38;5;39mCOMET INFO:\u001b[0m     installed packages  : 1\n",
            "\u001b[1;38;5;39mCOMET INFO:\u001b[0m     notebook            : 2\n",
            "\u001b[1;38;5;39mCOMET INFO:\u001b[0m     os packages         : 1\n",
            "\u001b[1;38;5;39mCOMET INFO:\u001b[0m     source_code         : 1\n",
            "\u001b[1;38;5;39mCOMET INFO:\u001b[0m \n",
            "\u001b[1;38;5;214mCOMET WARNING:\u001b[0m To get all data logged automatically, import comet_ml before the following modules: sklearn, torch, keras, tensorflow.\n"
          ]
        }
      ]
    },
    {
      "cell_type": "markdown",
      "metadata": {
        "id": "W3ZVOhugCaXA"
      },
      "source": [
        "As the model trains, the loss and accuracy metrics are displayed. With five epochs and a learning rate of 0.01, this fully connected model should achieve an accuracy of approximatley 0.97 (or 97%) on the training data."
      ]
    },
    {
      "cell_type": "markdown",
      "metadata": {
        "id": "oEw4bZgGCaXB"
      },
      "source": [
        "### Evaluate accuracy on the test dataset\n",
        "\n",
        "Now that we've trained the model, we can ask it to make predictions about a test set that it hasn't seen before. In this example, iterating over the `testset_loader` allows us to access our test images and test labels. And to evaluate accuracy, we can check to see if the model's predictions match the labels from this loader.\n",
        "\n",
        "Since we have now trained the mode, we will use the eval state of the model on the test dataset."
      ]
    },
    {
      "cell_type": "code",
      "source": [
        "def visualize_augmented_dataset(dataset, num_images=10):\n",
        "    plt.figure(figsize=(15, 2))\n",
        "    for i in range(num_images):\n",
        "        image, label = dataset[i]\n",
        "        image = image.squeeze(0)  # [1, 28, 28] → [28, 28]\n",
        "\n",
        "        plt.subplot(1, num_images, i + 1)\n",
        "        plt.imshow(image, cmap='gray')\n",
        "        plt.title(f\"Label: {label}\")\n",
        "        plt.axis('off')\n",
        "    plt.suptitle(\"Augmented MNIST Samples\")\n",
        "    plt.show()\n",
        "\n",
        "# 시각화\n",
        "visualize_augmented_dataset(augmented_test_dataset)"
      ],
      "metadata": {
        "colab": {
          "base_uri": "https://localhost:8080/",
          "height": 156
        },
        "id": "s4pXy40kqFkZ",
        "outputId": "ab029d9a-8a04-4561-cc84-da767ba0a714"
      },
      "execution_count": 28,
      "outputs": [
        {
          "output_type": "display_data",
          "data": {
            "text/plain": [
              "<Figure size 1500x200 with 10 Axes>"
            ],
            "image/png": "[encoded data removed]"
          },
          "metadata": {}
        }
      ]
    },
    {
      "cell_type": "code",
      "execution_count": 16,
      "metadata": {
        "id": "VflXLEeECaXC",
        "colab": {
          "base_uri": "https://localhost:8080/"
        },
        "outputId": "5ff524b2-1313-48c0-b1f1-189786a1b6f5"
      },
      "outputs": [
        {
          "output_type": "stream",
          "name": "stdout",
          "text": [
            "Test1 accuracy: 0.4712\n",
            "Test2 accuracy: 0.1034\n",
            "Test3 accuracy: 0.5565\n"
          ]
        }
      ],
      "source": [
        "'''TODO: Use the model we have defined in its eval state to complete\n",
        "and call the evaluate function, and calculate the accuracy of the model'''\n",
        "\n",
        "def evaluate(model, dataloader, loss_function):\n",
        "    # Evaluate model performance on the test dataset\n",
        "    model.eval()\n",
        "    test_loss = 0\n",
        "    correct_pred = 0\n",
        "    total_pred = 0\n",
        "    # Disable gradient calculations when in inference mode\n",
        "    with torch.no_grad():\n",
        "        for images, labels in dataloader:\n",
        "            # TODO: ensure evalaution happens on the GPU\n",
        "            images, labels = images.to(device), labels.to(device)\n",
        "\n",
        "            # TODO: feed the images into the model and obtain the predictions (forward pass)\n",
        "            outputs = model(images)\n",
        "\n",
        "            loss = loss_function(outputs, labels)\n",
        "\n",
        "            # TODO: Calculate test loss\n",
        "            loss = loss_function(outputs, labels)\n",
        "            test_loss += loss.item() * images.size(0)\n",
        "\n",
        "            # TODO: identify the digit with the highest probability prediction for the images in the test dataset.\n",
        "            predicted = torch.argmax(outputs, dim=1)\n",
        "\n",
        "            # TODO: tally the number of correct predictions\n",
        "            correct_pred += (predicted == labels).sum().item()\n",
        "\n",
        "            # TODO: tally the total number of predictions\n",
        "            total_pred += labels.size(0)\n",
        "\n",
        "    # Compute average loss and accuracy\n",
        "    test_loss /= total_pred\n",
        "    test_acc = correct_pred / total_pred\n",
        "    return test_loss, test_acc\n",
        "\n",
        "# test_loss, test_acc = evaluate(fc_model, testset_loader, nn.CrossEntropyLoss())\n",
        "test_loss1, test_acc1 = evaluate(fc_model1, augmented_test_loader, loss_function)\n",
        "test_loss2, test_acc2 = evaluate(fc_model2, augmented_test_loader, loss_function)\n",
        "test_loss3, test_acc3 = evaluate(fc_model3, augmented_test_loader, loss_function)\n",
        "\n",
        "print('Test1 accuracy:', test_acc1)\n",
        "print('Test2 accuracy:', test_acc2)\n",
        "print('Test3 accuracy:', test_acc3)"
      ]
    },
    {
      "cell_type": "markdown",
      "metadata": {
        "id": "yWfgsmVXCaXG"
      },
      "source": [
        "You may observe that the accuracy on the test dataset is a little lower than the accuracy on the training dataset. This gap between training accuracy and test accuracy is an example of *overfitting*, when a machine learning model performs worse on new data than on its training data.\n",
        "\n",
        "What is the highest accuracy you can achieve with this first fully connected model? Since the handwritten digit classification task is pretty straightforward, you may be wondering how we can do better...\n",
        "\n",
        "![Deeper...](https://i.kym-cdn.com/photos/images/newsfeed/000/534/153/f87.jpg)"
      ]
    },
    {
      "cell_type": "markdown",
      "metadata": {
        "id": "baIw9bDf8v6Z"
      },
      "source": [
        "## 1.3 Convolutional Neural Network (CNN) for handwritten digit classification"
      ]
    },
    {
      "cell_type": "markdown",
      "metadata": {
        "id": "_J72Yt1o_fY7"
      },
      "source": [
        "As we saw in lecture, convolutional neural networks (CNNs) are particularly well-suited for a variety of tasks in computer vision, and have achieved near-perfect accuracies on the MNIST dataset. We will now build a CNN composed of two convolutional layers and pooling layers, followed by two fully connected layers, and ultimately output a probability distribution over the 10 digit classes (0-9). The CNN we will be building is depicted below:\n",
        "\n",
        "![alt_text](https://raw.githubusercontent.com/MITDeepLearning/introtodeeplearning/master/lab2/img/convnet_fig.png \"CNN Architecture for MNIST Classification\")"
      ]
    },
    {
      "cell_type": "markdown",
      "metadata": {
        "id": "EEHqzbJJAEoR"
      },
      "source": [
        "### Define the CNN model\n",
        "\n",
        "We'll use the same training and test datasets as before, and proceed similarly as our fully connected network to define and train our new CNN model. To do this we will explore two layers we have not encountered before: you can use  [`nn.Conv2d`](https://pytorch.org/docs/stable/generated/torch.nn.Conv2d.html) to define convolutional layers and [`nn.MaxPool2D`](https://pytorch.org/docs/stable/generated/torch.nn.MaxPool2d.html) to define the pooling layers. Use the parameters shown in the network architecture above to define these layers and build the CNN model. You can decide to use `nn.Sequential` or to subclass `nn.Module`based on your preference."
      ]
    },
    {
      "cell_type": "code",
      "execution_count": 18,
      "metadata": {
        "id": "vec9qcJs-9W5",
        "colab": {
          "base_uri": "https://localhost:8080/"
        },
        "outputId": "d85ed138-9e09-4c01-ebea-be4bbab06eb5"
      },
      "outputs": [
        {
          "output_type": "stream",
          "name": "stdout",
          "text": [
            "CNN(\n",
            "  (conv1): Conv2d(1, 24, kernel_size=(3, 3), stride=(1, 1))\n",
            "  (pool1): MaxPool2d(kernel_size=2, stride=2, padding=0, dilation=1, ceil_mode=False)\n",
            "  (conv2): Conv2d(24, 36, kernel_size=(3, 3), stride=(1, 1))\n",
            "  (pool2): MaxPool2d(kernel_size=2, stride=2, padding=0, dilation=1, ceil_mode=False)\n",
            "  (flatten): Flatten(start_dim=1, end_dim=-1)\n",
            "  (fc1): Linear(in_features=900, out_features=128, bias=True)\n",
            "  (relu): ReLU()\n",
            "  (fc2): Linear(in_features=128, out_features=10, bias=True)\n",
            ")\n"
          ]
        }
      ],
      "source": [
        "### Basic CNN in PyTorch ###\n",
        "\n",
        "class CNN(nn.Module):\n",
        "    def __init__(self):\n",
        "        super(CNN, self).__init__()\n",
        "        # TODO: Define the first convolutional layer\n",
        "        self.conv1 = nn.Conv2d(in_channels=1, out_channels=24, kernel_size=3)\n",
        "\n",
        "        # TODO: Define the first max pooling layer\n",
        "        self.pool1 = nn.MaxPool2d(kernel_size=2, stride=2)\n",
        "\n",
        "        # TODO: Define the second convolutional layer\n",
        "        self.conv2 = nn.Conv2d(in_channels=24, out_channels=36, kernel_size=3)\n",
        "\n",
        "        # TODO: Define the second max pooling layer\n",
        "        self.pool2 = nn.MaxPool2d(kernel_size=2, stride=2)\n",
        "\n",
        "        self.flatten = nn.Flatten()\n",
        "        self.fc1 = nn.Linear(36 * 5 * 5, 128)\n",
        "        self.relu = nn.ReLU()\n",
        "\n",
        "        # logits over class labels. Remember that CrossEntropyLoss operates over logits.\n",
        "        self.fc2 = nn.Linear(128, 10)\n",
        "\n",
        "\n",
        "    def forward(self, x):\n",
        "        # First convolutional and pooling layers\n",
        "        x = self.conv1(x)\n",
        "        x = self.relu(x)\n",
        "        x = self.pool1(x)\n",
        "\n",
        "        # '''TODO: Implement the rest of forward pass of the model using the layers you have defined above'''\n",
        "        #     '''hint: this will involve another set of convolutional/pooling layers and then the linear layers'''\n",
        "        x = self.conv2(x)\n",
        "        x = self.relu(x)\n",
        "        x = self.pool2(x)\n",
        "\n",
        "        # Flatten\n",
        "        x = self.flatten(x)\n",
        "\n",
        "        # FC → ReLU → FC\n",
        "        x = self.fc1(x)\n",
        "        x = self.relu(x)\n",
        "        x = self.fc2(x)\n",
        "\n",
        "        return x\n",
        "\n",
        "# Instantiate the model\n",
        "cnn_model = CNN().to(device)\n",
        "\n",
        "data_iter = iter(augmented_train_loader)\n",
        "image, label = next(data_iter)\n",
        "\n",
        "image = image.to(device)\n",
        "output = cnn_model(image)\n",
        "\n",
        "# Print the model summary\n",
        "print(cnn_model)"
      ]
    },
    {
      "cell_type": "markdown",
      "metadata": {
        "id": "kUAXIBynCih2"
      },
      "source": [
        "### Train and test the CNN model\n",
        "\n",
        "Earlier in the lab, we defined a `train` function. The body of the function is quite useful because it allows us to have control over the training model, and to record differentiation operations during training by computing the gradients using `loss.backward()`. You may recall seeing this in Lab 1 Part 1.\n",
        "\n",
        "We'll use this same framework to train our `cnn_model` using stochastic gradient descent. You are free to implement the following parts with or without the train and evaluate functions we defined above. What is most important is understanding how to manipulate the bodies of those functions to train and test models.\n",
        "\n",
        "As we've done above, we can define the loss function, optimizer, and calculate the accuracy of the model. Define an optimizer and learning rate of choice. Feel free to modify as you see fit to optimize your model's performance."
      ]
    },
    {
      "cell_type": "code",
      "execution_count": 19,
      "metadata": {
        "id": "vheyanDkCg6a"
      },
      "outputs": [],
      "source": [
        "# Rebuild the CNN model\n",
        "cnn_model = CNN().to(device)\n",
        "\n",
        "# Define hyperparams\n",
        "batch_size = 64\n",
        "epochs = 7\n",
        "optimizer = optim.SGD(cnn_model.parameters(), lr=1e-2)\n",
        "\n",
        "# TODO: instantiate the cross entropy loss function\n",
        "loss_function = nn.CrossEntropyLoss()\n",
        "\n",
        "# Redefine trainloader with new batch size parameter (tweak as see fit if optimizing)\n",
        "trainset_loader = DataLoader(augmented_train_dataset, batch_size=batch_size, shuffle=True)\n",
        "testset_loader = DataLoader(augmented_test_dataset, batch_size=batch_size, shuffle=False)"
      ]
    },
    {
      "cell_type": "code",
      "execution_count": 20,
      "metadata": {
        "id": "bzgOEAXVsUNZ",
        "colab": {
          "base_uri": "https://localhost:8080/",
          "height": 1000
        },
        "outputId": "3e6dc01e-bb2a-417b-e6b8-ce17838ee5ff"
      },
      "outputs": [
        {
          "output_type": "display_data",
          "data": {
            "text/plain": [
              "<Figure size 640x480 with 1 Axes>"
            ],
            "image/png": "[encoded data removed]"
          },
          "metadata": {}
        },
        {
          "output_type": "stream",
          "name": "stderr",
          "text": [
            "100%|██████████| 938/938 [00:19<00:00, 48.61it/s]\n"
          ]
        },
        {
          "output_type": "stream",
          "name": "stdout",
          "text": [
            "Epoch 7, Loss: 0.0, Accuracy: 0.3548\n"
          ]
        },
        {
          "output_type": "execute_result",
          "data": {
            "text/plain": [
              "{'web': 'https://www.comet.com/api/image/download?imageId=1957f547be814996a86d9b2698f62ef4&experimentKey=7ded5bbc6a9c48e59a8773fa0c70400e',\n",
              " 'api': 'https://www.comet.com/api/rest/v1/image/get-image?imageId=1957f547be814996a86d9b2698f62ef4&experimentKey=7ded5bbc6a9c48e59a8773fa0c70400e',\n",
              " 'imageId': '1957f547be814996a86d9b2698f62ef4'}"
            ]
          },
          "metadata": {},
          "execution_count": 20
        },
        {
          "output_type": "display_data",
          "data": {
            "text/plain": [
              "<Figure size 640x480 with 1 Axes>"
            ],
            "image/png": "[encoded data removed]"
          },
          "metadata": {}
        }
      ],
      "source": [
        "loss_history = mdl.util.LossHistory(smoothing_factor=0.95) # to record the evolution of the loss\n",
        "plotter = mdl.util.PeriodicPlotter(sec=2, xlabel='Iterations', ylabel='Loss', scale='semilogy')\n",
        "\n",
        "# Initialize new comet experiment\n",
        "comet_ml.init(project_name=\"6.s191lab2_part1_CNN\")\n",
        "comet_model_2 = comet_ml.Experiment()\n",
        "\n",
        "if hasattr(tqdm, '_instances'): tqdm._instances.clear() # clear if it exists\n",
        "\n",
        "# Training loop!\n",
        "cnn_model.train()\n",
        "\n",
        "for epoch in range(epochs):\n",
        "    total_loss = 0\n",
        "    correct_pred = 0\n",
        "    total_pred = 0\n",
        "\n",
        "    # First grab a batch of training data which our data loader returns as a tensor\n",
        "    for idx, (images, labels) in enumerate(tqdm(trainset_loader)):\n",
        "        images, labels = images.to(device), labels.to(device)\n",
        "\n",
        "        # Forward pass\n",
        "        # TODO: feed the images into the model and obtain the predictions\n",
        "        logits  =cnn_model(images)\n",
        "\n",
        "        # TODO: compute the categorical cross entropy loss using the predicted logits\n",
        "        loss = loss_function(logits, labels)\n",
        "\n",
        "        # Get the loss and log it to comet and the loss_history record\n",
        "        loss_value = loss.item()\n",
        "        comet_model_2.log_metric(\"loss\", loss_value, step=idx)\n",
        "        loss_history.append(loss_value) # append the loss to the loss_history record\n",
        "        plotter.plot(loss_history.get())\n",
        "\n",
        "        # Backpropagation/backward pass\n",
        "\n",
        "        optimizer.zero_grad()     # Reset optimizer\n",
        "        loss.backward()           # Compute gradients\n",
        "        optimizer.step()          # Update model parameters\n",
        "\n",
        "        # Get the prediction and tally metrics\n",
        "        predicted = torch.argmax(logits, dim=1)\n",
        "        correct_pred += (predicted == labels).sum().item()\n",
        "        total_pred += labels.size(0)\n",
        "\n",
        "    # Compute metrics\n",
        "    total_epoch_loss = total_loss / total_pred\n",
        "    epoch_accuracy = correct_pred / total_pred\n",
        "    print(f\"Epoch {epoch + 1}, Loss: {total_epoch_loss}, Accuracy: {epoch_accuracy:.4f}\")\n",
        "\n",
        "comet_model_2.log_figure(figure=plt)"
      ]
    },
    {
      "cell_type": "markdown",
      "metadata": {
        "id": "UG3ZXwYOsUNZ"
      },
      "source": [
        "### Evaluate the CNN Model\n",
        "\n",
        "Now that we've trained the model, let's evaluate it on the test dataset."
      ]
    },
    {
      "cell_type": "code",
      "execution_count": 21,
      "metadata": {
        "id": "JDm4znZcDtNl",
        "colab": {
          "base_uri": "https://localhost:8080/"
        },
        "outputId": "7479b375-881d-420b-f2da-2efc902e033c"
      },
      "outputs": [
        {
          "output_type": "stream",
          "name": "stdout",
          "text": [
            "Test accuracy: 0.2499\n"
          ]
        }
      ],
      "source": [
        "def evaluate(model, dataloader, loss_fn):\n",
        "    model.eval()\n",
        "    total_loss = 0\n",
        "    correct = 0\n",
        "    total = 0\n",
        "\n",
        "    with torch.no_grad():\n",
        "        for images, labels in dataloader:\n",
        "            images, labels = images.to(device), labels.to(device)\n",
        "\n",
        "            outputs = model(images)\n",
        "            loss = loss_fn(outputs, labels)\n",
        "\n",
        "            total_loss += loss.item()\n",
        "            predicted = torch.argmax(outputs, dim=1)\n",
        "            correct += (predicted == labels).sum().item()\n",
        "            total += labels.size(0)\n",
        "\n",
        "    avg_loss = total_loss / total\n",
        "    accuracy = correct / total\n",
        "\n",
        "    model.train()  # 다시 학습 모드로 전환\n",
        "    return avg_loss, accuracy\n",
        "test_loss, test_acc = evaluate(cnn_model, testset_loader, loss_function)\n",
        "\n",
        "print('Test accuracy:', test_acc)"
      ]
    },
    {
      "cell_type": "markdown",
      "metadata": {
        "id": "2rvEgK82Glv9"
      },
      "source": [
        "What is the highest accuracy you're able to achieve using the CNN model, and how does the accuracy of the CNN model compare to the accuracy of the simple fully connected network? What optimizers and learning rates seem to be optimal for training the CNN model?\n",
        "\n",
        "Feel free to click the Comet links to investigate the training/accuracy curves for your model."
      ]
    },
    {
      "cell_type": "markdown",
      "metadata": {
        "id": "xsoS7CPDCaXH"
      },
      "source": [
        "### Make predictions with the CNN model\n",
        "\n",
        "\n",
        "\n",
        "With the model trained, we can use it to make predictions about some images."
      ]
    },
    {
      "cell_type": "code",
      "execution_count": 36,
      "metadata": {
        "id": "Gl91RPhdCaXI"
      },
      "outputs": [],
      "source": [
        "data_iter = iter(augmented_test_loader)\n",
        "test_image, test_label = next(data_iter)\n",
        "\n",
        "test_image = test_image.to(device)\n",
        "test_label = test_label.to(device)\n",
        "\n",
        "cnn_model.eval()\n",
        "predictions_test_image = cnn_model(test_image)\n"
      ]
    },
    {
      "cell_type": "markdown",
      "metadata": {
        "id": "x9Kk1voUCaXJ"
      },
      "source": [
        "With this function call, the model has predicted the label of the first image in the testing set. Let's take a look at the prediction:"
      ]
    },
    {
      "cell_type": "code",
      "execution_count": 37,
      "metadata": {
        "id": "3DmJEUinCaXK",
        "colab": {
          "base_uri": "https://localhost:8080/"
        },
        "outputId": "f0fbc103-6a12-4059-8ef8-9b3d468c1e23"
      },
      "outputs": [
        {
          "output_type": "stream",
          "name": "stdout",
          "text": [
            "tensor([[-2.6135e+00, -1.4518e+00, -3.8116e+00, -5.7296e+00, -6.0788e+00,\n",
            "         -1.8817e+00, -6.9317e+00,  6.2112e+00, -8.8394e+00,  2.5194e-01],\n",
            "        [-6.6784e+00, -4.1985e+00,  8.8857e+00, -1.4082e+00, -8.7213e+00,\n",
            "         -9.4383e+00, -4.9990e+00, -1.6925e+00, -1.3517e+00, -1.0168e+01],\n",
            "        [-1.3922e+01,  1.2257e+01, -3.4511e+00, -9.7896e+00, -7.2890e+00,\n",
            "         -1.3023e+00, -3.0799e+00, -4.1240e+00, -6.8960e+00, -6.7903e+00],\n",
            "        [ 7.2326e+00, -6.8576e+00, -2.1206e+00, -6.8113e+00, -1.0044e+01,\n",
            "         -1.8845e+00,  3.5988e-01, -3.6407e+00, -4.9581e+00, -7.6542e-01],\n",
            "        [-1.2381e+01, -8.8317e-01, -5.5947e+00, -2.2364e+00,  5.4414e+00,\n",
            "         -2.1478e-01, -5.1045e+00, -3.1879e-01, -1.7164e+00,  6.4419e-02],\n",
            "        [-1.0251e+01,  1.1689e+01, -4.9445e+00, -1.0558e+01, -6.8150e+00,\n",
            "         -3.0029e+00, -4.1762e+00, -3.6596e+00, -4.8178e+00, -2.9661e+00],\n",
            "        [-1.6025e+01, -2.3042e+00, -4.5808e+00, -7.1066e+00,  7.1091e+00,\n",
            "         -3.7650e+00, -4.8948e+00, -1.2784e+00,  8.0026e-01,  8.7705e-01],\n",
            "        [-5.3671e+00, -8.4343e+00, -6.3240e+00, -7.7493e+00, -4.0817e-01,\n",
            "         -4.9175e+00, -1.2477e+00, -2.6861e+00, -7.2130e-01,  6.9277e+00],\n",
            "        [-5.8036e+00, -4.0220e+00, -3.8725e+00, -7.2885e-01, -2.2022e+00,\n",
            "          4.0333e+00,  2.7559e-01, -7.3181e+00, -3.5628e+00, -2.7325e+00],\n",
            "        [-7.5322e+00, -1.2425e+01, -9.7665e+00, -1.0027e+01, -1.0011e+00,\n",
            "         -2.6725e+00, -1.2319e-01, -4.4656e+00, -1.6482e+00,  8.0475e+00],\n",
            "        [ 9.9061e+00, -6.6530e+00, -3.0251e+00, -1.0406e+01, -1.1985e+01,\n",
            "         -4.3713e+00, -1.0390e+00, -2.4700e+00, -6.4155e+00, -1.1997e-01],\n",
            "        [-2.7931e+00, -1.4046e+01, -8.0855e+00, -3.6762e+00, -3.5486e+00,\n",
            "          2.3322e-01,  2.7672e+00, -1.0197e+01,  2.2272e+00,  4.0848e+00],\n",
            "        [-7.7253e+00, -9.8063e+00, -7.3920e+00, -1.1617e+01,  5.1214e-01,\n",
            "         -9.7138e+00, -6.6303e+00, -2.6486e+00, -3.8310e-01,  9.6860e+00],\n",
            "        [ 7.9520e+00, -6.9336e+00, -9.6768e-01, -4.9619e+00, -1.2643e+01,\n",
            "         -3.7622e+00, -4.5382e+00,  1.7220e+00, -7.5419e+00, -1.2759e-01],\n",
            "        [-7.3449e+00,  7.1574e+00, -1.5860e+00, -5.2620e+00, -6.1783e+00,\n",
            "         -1.1053e+00, -3.4632e+00, -4.4434e-01, -4.4677e+00, -4.3201e+00],\n",
            "        [-7.9593e+00, -2.2112e+00, -3.3644e+00,  3.6305e-02,  2.8606e+00,\n",
            "          1.9936e+00, -4.4918e+00, -3.4733e+00, -1.4213e+00, -2.1188e+00],\n",
            "        [-4.4861e+00, -9.3553e+00, -6.0688e+00, -9.3893e+00, -1.1302e+00,\n",
            "         -7.5599e+00, -5.0150e+00, -3.1571e+00, -2.0899e-01,  7.8216e+00],\n",
            "        [-2.4017e-01, -2.0049e+00, -1.4752e+00, -2.0355e+00, -5.2992e+00,\n",
            "         -2.3503e+00, -6.9178e+00,  4.6116e+00, -7.0351e+00, -1.4114e-02],\n",
            "        [ 2.2931e+00, -7.9754e+00, -1.1836e-01,  7.5208e-01, -7.4610e+00,\n",
            "          7.6944e-01, -9.5669e-01, -6.4837e+00, -5.3411e-01, -7.8606e-01],\n",
            "        [-2.1038e+01,  2.0762e+00, -2.9503e+00, -8.1436e+00,  9.2643e+00,\n",
            "         -6.9630e+00, -1.0005e+01,  2.7766e+00, -3.5457e+00, -8.2774e-01],\n",
            "        [-3.2497e+00, -2.5328e+00, -3.5033e+00, -6.0598e+00,  7.3993e-01,\n",
            "         -5.7073e+00, -3.4462e+00,  1.3350e+00, -1.8091e+00,  4.3666e+00],\n",
            "        [-5.3546e+00, -1.8140e+01, -9.9567e+00, -6.1892e+00, -7.6630e+00,\n",
            "          4.2040e+00,  6.9670e+00, -1.8797e+01,  1.6946e+00,  8.0676e-01],\n",
            "        [-2.2513e+00, -9.8480e+00, -5.5670e+00, -1.6894e+00, -3.6047e+00,\n",
            "         -2.6093e-01,  2.6301e+00, -4.4437e+00, -1.3091e+00,  3.2614e+00],\n",
            "        [-6.7422e+00, -1.2729e+01, -1.0002e+01,  2.0632e+00, -4.6423e+00,\n",
            "          7.2383e+00, -3.1822e+00, -6.5956e+00, -6.2076e+00,  1.6970e+00],\n",
            "        [-1.0416e+01, -1.4489e-01, -4.8697e+00, -7.1073e+00,  6.1517e+00,\n",
            "         -2.8480e+00, -4.8687e+00, -2.7092e-01, -1.3995e+00,  1.3572e+00],\n",
            "        [ 5.7218e+00, -4.3023e+00, -1.9074e-03, -5.6715e+00, -7.8241e+00,\n",
            "         -3.7361e+00, -1.4004e+00, -1.0314e+00, -4.0172e+00, -1.0179e+00],\n",
            "        [-4.5402e+00,  9.1830e-01, -1.9599e+00, -3.7771e+00, -3.3819e+00,\n",
            "         -3.2612e+00, -6.6832e+00,  6.0392e+00, -8.7349e+00, -2.3833e+00],\n",
            "        [-2.3428e+01,  1.2422e+00, -3.9088e+00, -6.3573e+00,  9.8749e+00,\n",
            "         -6.5818e+00, -1.3170e+01,  3.2363e+00, -2.1253e+00, -1.2430e+00],\n",
            "        [ 4.4366e+00, -7.0967e+00, -1.5774e+00, -6.3711e+00, -7.7103e+00,\n",
            "         -4.9568e+00, -1.8786e+00, -2.5230e+00, -1.5495e+00,  1.8558e+00],\n",
            "        [-1.2326e+01,  1.0638e+01, -4.6105e+00, -1.2019e+01, -6.2498e+00,\n",
            "         -4.4351e+00, -1.3480e+00, -1.0562e+00, -5.0596e+00, -3.1726e+00],\n",
            "        [-7.0435e+00, -5.5526e+00, -4.9073e-01,  6.1981e+00, -5.7908e+00,\n",
            "         -1.0807e+00, -9.3189e+00,  2.4763e+00, -5.4698e+00, -2.0955e+00],\n",
            "        [-1.0341e+01,  1.0203e+01, -4.8697e+00, -7.6574e+00, -6.6448e+00,\n",
            "         -2.1645e-01, -2.2127e+00, -3.4141e+00, -4.2875e+00, -3.9685e+00],\n",
            "        [-9.4020e+00, -3.8604e+00,  1.8305e+00,  6.9077e+00, -6.4146e+00,\n",
            "         -2.7532e+00, -1.1028e+01,  3.3347e+00, -6.7528e+00, -4.9755e+00],\n",
            "        [-8.4185e+00,  1.2535e+00,  2.3465e+00, -1.4950e+00,  1.2806e+00,\n",
            "         -5.8014e+00, -3.9052e+00,  3.3173e+00, -2.0854e+00, -3.6498e+00],\n",
            "        [-7.5466e+00,  3.6104e+00, -1.5612e+00, -9.3693e+00, -2.5927e+00,\n",
            "         -8.3297e+00, -7.2074e+00,  7.8922e+00, -7.3985e+00, -1.4043e+00],\n",
            "        [-1.1758e+01,  9.8873e-01,  8.9614e+00, -4.3877e+00, -2.5215e+00,\n",
            "         -1.2735e+01, -4.1322e+00,  3.2104e+00, -1.4602e+00, -1.0213e+01],\n",
            "        [-1.4431e+00, -2.1696e+00,  2.8335e+00,  1.4871e-01, -4.4727e+00,\n",
            "         -5.7458e+00, -6.6336e+00,  2.6722e+00, -2.8813e+00, -1.7114e+00],\n",
            "        [-1.3405e+01,  1.1829e+01, -6.8866e+00, -1.2495e+01, -6.8598e+00,\n",
            "         -3.4666e+00, -2.8199e+00, -2.2856e+00, -5.7468e+00, -2.5392e+00],\n",
            "        [-2.3378e+00, -2.7064e+00,  5.2294e+00,  1.0185e+00, -6.8467e+00,\n",
            "         -5.9639e+00, -4.3664e+00, -4.5363e-01, -3.5497e+00, -6.9281e+00],\n",
            "        [-1.1345e+01,  1.4212e+01, -7.4399e+00, -1.3161e+01, -9.3879e+00,\n",
            "         -3.2150e+00, -5.2223e-01, -4.7422e+00, -4.6285e+00, -3.0877e+00],\n",
            "        [-5.2935e+00,  7.4016e+00, -3.1942e+00, -8.0107e+00, -4.3945e+00,\n",
            "         -3.6464e+00, -4.3259e+00, -1.2725e+00, -4.2001e+00, -1.9382e+00],\n",
            "        [-9.2514e+00, -2.4523e-01,  1.5815e+00, -5.6434e-01, -2.0461e+00,\n",
            "         -5.2989e+00, -7.4391e+00,  5.0796e+00, -5.7450e+00, -2.7415e+00],\n",
            "        [-1.5707e+01, -2.4862e+00, -6.9793e+00, -1.0859e+01,  8.4039e+00,\n",
            "         -4.7425e+00, -4.8434e+00, -1.8485e+00,  3.7401e-01,  2.7679e+00],\n",
            "        [-1.3575e+01,  1.7792e+00, -4.0093e-03, -4.8601e+00,  5.2046e+00,\n",
            "         -4.3527e+00, -3.7818e+00, -5.1476e-01,  4.0832e-01, -4.2526e+00],\n",
            "        [-8.7682e+00, -8.4648e+00, -3.1226e+00,  6.7169e+00, -4.5907e+00,\n",
            "          1.6516e+00, -5.7862e+00, -3.3512e+00, -2.5003e+00, -3.4272e+00],\n",
            "        [-5.8933e+00, -2.0426e+01, -1.1579e+01, -1.2706e+00, -8.4363e+00,\n",
            "          7.5743e+00,  2.2999e+00, -1.4735e+01, -1.3317e+00,  2.3455e+00],\n",
            "        [-7.3217e+00,  9.5189e+00, -2.9976e+00, -1.0010e+01, -6.8403e+00,\n",
            "         -3.9682e+00, -3.2506e+00, -1.9872e+00, -4.2536e+00, -3.2674e+00],\n",
            "        [-5.9322e+00, -7.7448e+00,  8.7541e+00, -4.1852e-01, -1.1068e+01,\n",
            "         -1.1528e+01, -3.6786e+00, -4.4495e+00,  3.3608e+00, -9.0612e+00],\n",
            "        [-1.5510e+01, -3.5526e-01, -2.2276e+00, -9.5762e-01,  5.4912e+00,\n",
            "         -3.2226e+00, -9.8055e+00,  2.2694e+00, -6.8976e-01, -9.9729e-01],\n",
            "        [-1.4945e+01, -1.6217e+00, -3.0963e+00, -2.8293e+00,  6.0395e+00,\n",
            "         -3.2073e+00, -6.9241e+00, -3.3726e-01,  7.8579e-01, -8.4378e-01],\n",
            "        [-1.3271e+00, -1.1676e+01, -8.7507e+00, -6.6639e+00, -8.8221e+00,\n",
            "          2.8046e+00,  7.5731e+00, -1.3035e+01, -2.8642e+00,  1.5924e+00],\n",
            "        [-6.8390e+00, -7.7006e+00,  4.0563e-01,  8.6462e+00, -8.8451e+00,\n",
            "         -1.6609e+00, -1.2598e+01,  1.6770e+00, -6.0616e+00, -3.1374e+00],\n",
            "        [-4.2414e+00, -1.8347e+01, -1.1400e+01, -8.5654e-01, -1.1283e+01,\n",
            "          8.6817e+00,  4.7469e+00, -1.5721e+01, -4.7864e+00, -6.6240e-02],\n",
            "        [-6.5007e+00, -1.0967e+01, -7.7911e+00,  2.9282e+00, -4.4456e+00,\n",
            "          6.6117e+00, -2.6991e+00, -6.7757e+00, -4.9742e+00, -3.8750e-01],\n",
            "        [ 1.3367e+00, -2.0248e+01, -8.9244e+00, -3.2703e+00, -1.3032e+01,\n",
            "          1.9241e+00,  8.2232e+00, -1.4884e+01, -1.9748e+00,  1.8623e+00],\n",
            "        [ 7.7262e+00, -9.9179e-01, -2.2056e+00, -9.8853e+00, -7.5646e+00,\n",
            "         -4.9849e+00, -2.4348e+00,  3.2945e+00, -7.1475e+00, -1.8709e-01],\n",
            "        [-1.9970e+01,  3.6952e-02, -5.2006e+00, -6.1727e+00,  8.2711e+00,\n",
            "         -4.9911e+00, -9.0234e+00,  2.7944e+00, -1.6460e+00,  6.2191e-01],\n",
            "        [-1.1184e+01,  1.0058e+01, -3.3539e+00, -1.1146e+01, -5.8647e+00,\n",
            "         -4.6492e+00, -2.1427e+00, -2.8635e-01, -4.5877e+00, -3.2801e+00],\n",
            "        [-1.1386e+00, -8.6576e+00, -7.3766e+00, -1.0956e+01, -2.9026e+00,\n",
            "         -6.6921e+00, -1.7364e+00, -1.3479e+00, -2.3969e+00,  7.6266e+00],\n",
            "        [-3.4112e+00, -2.6272e+00, -5.2510e+00, -2.1160e+00, -2.4816e+00,\n",
            "          2.5420e+00, -4.5691e+00,  3.2139e+00, -7.2753e+00,  7.6551e-01],\n",
            "        [-4.2946e+00,  2.8646e-01, -2.7702e+00, -5.6956e+00, -7.0358e+00,\n",
            "         -1.6702e+00, -2.4592e+00,  6.2270e+00, -8.6441e+00, -2.3700e+00],\n",
            "        [-9.0082e+00, -1.0883e+01,  1.3112e+00, -1.6879e+00, -3.8501e+00,\n",
            "         -6.6837e+00, -6.3754e+00, -5.4385e+00,  5.6020e+00,  1.0210e+00],\n",
            "        [-4.0976e+00, -3.2348e+00, -3.8660e+00, -3.1590e+00,  1.0896e+00,\n",
            "         -1.7936e+00, -4.1200e+00,  2.0770e-01, -2.5422e+00,  3.1864e+00],\n",
            "        [-8.7107e+00, -7.2615e+00,  2.8287e+00,  7.9367e+00, -8.9321e+00,\n",
            "         -3.3353e+00, -1.1756e+01, -5.7653e-01, -4.5078e+00, -5.0461e+00]],\n",
            "       device='cuda:0', grad_fn=<AddmmBackward0>)\n"
          ]
        }
      ],
      "source": [
        "print(predictions_test_image)"
      ]
    },
    {
      "cell_type": "markdown",
      "metadata": {
        "id": "-hw1hgeSCaXN"
      },
      "source": [
        "As you can see, a prediction is an array of 10 numbers. Recall that the output of our model is a  distribution over the 10 digit classes. Thus, these numbers describe the model's predicted likelihood that the image corresponds to each of the 10 different digits.\n",
        "\n",
        "Let's look at the digit that has the highest likelihood for the first image in the test dataset:"
      ]
    },
    {
      "cell_type": "code",
      "execution_count": 29,
      "metadata": {
        "id": "qsqenuPnCaXO",
        "colab": {
          "base_uri": "https://localhost:8080/"
        },
        "outputId": "80d78a92-1ecd-4b43-d286-e338e92d9ff9"
      },
      "outputs": [
        {
          "output_type": "stream",
          "name": "stdout",
          "text": [
            "560\n"
          ]
        }
      ],
      "source": [
        "'''TODO: identify the digit with the highest likelihood prediction for the first\n",
        "    image in the test dataset. '''\n",
        "predictions_value = predictions_test_image.cpu().detach().numpy() #.cpu() to copy tensor to memory first\n",
        "prediction =predictions_value.argmax()\n",
        "print(prediction)"
      ]
    },
    {
      "cell_type": "markdown",
      "metadata": {
        "id": "E51yS7iCCaXO"
      },
      "source": [
        "So, the model is most confident that this image is a \"???\". We can check the test label (remember, this is the true identity of the digit) to see if this prediction is correct:"
      ]
    },
    {
      "cell_type": "code",
      "execution_count": 30,
      "metadata": {
        "id": "Sd7Pgsu6CaXP",
        "colab": {
          "base_uri": "https://localhost:8080/",
          "height": 559
        },
        "outputId": "01997fb6-bfb7-43e6-ab5f-3eba7ca33604"
      },
      "outputs": [
        {
          "output_type": "stream",
          "name": "stdout",
          "text": [
            "Label of this digit is: tensor([5, 0, 4, 1, 9, 2, 1, 3, 1, 4, 3, 5, 3, 6, 1, 7, 2, 8, 6, 9, 4, 0, 9, 1,\n",
            "        1, 2, 4, 3, 2, 7, 3, 8, 6, 9, 0, 5, 6, 0, 7, 6, 1, 8, 7, 9, 3, 9, 8, 5,\n",
            "        9, 3, 3, 0, 7, 4, 9, 8, 0, 9, 4, 1, 4, 4, 6, 0], device='cuda:0')\n"
          ]
        },
        {
          "output_type": "execute_result",
          "data": {
            "text/plain": [
              "{'web': 'https://www.comet.com/api/image/download?imageId=38061d65ae7c4c278bab79cfc79cac38&experimentKey=7ded5bbc6a9c48e59a8773fa0c70400e',\n",
              " 'api': 'https://www.comet.com/api/rest/v1/image/get-image?imageId=38061d65ae7c4c278bab79cfc79cac38&experimentKey=7ded5bbc6a9c48e59a8773fa0c70400e',\n",
              " 'imageId': '38061d65ae7c4c278bab79cfc79cac38'}"
            ]
          },
          "metadata": {},
          "execution_count": 30
        },
        {
          "output_type": "display_data",
          "data": {
            "text/plain": [
              "<Figure size 640x480 with 1 Axes>"
            ],
            "image/png": "[encoded data removed]"
          },
          "metadata": {}
        }
      ],
      "source": [
        "print(\"Label of this digit is:\", test_label)\n",
        "plt.imshow(test_image[0,0,:,:].cpu(), cmap=plt.cm.binary)\n",
        "comet_model_2.log_figure(figure=plt)"
      ]
    },
    {
      "cell_type": "markdown",
      "metadata": {
        "id": "ygh2yYC972ne"
      },
      "source": [
        "It is! Let's visualize the classification results on the MNIST dataset. We will plot images from the test dataset along with their predicted label, as well as a histogram that provides the prediction probabilities for each of the digits.\n",
        "\n",
        "Recall that in PyTorch the MNIST dataset is typically accessed using a DataLoader to iterate through the test set in smaller, manageable batches. By appending the predictions, test labels, and test images from each batch, we will first gradually accumulate all the data needed for visualization into singular variables to observe our model's predictions."
      ]
    },
    {
      "cell_type": "code",
      "execution_count": 31,
      "metadata": {
        "id": "v6OqZSiAsUNf"
      },
      "outputs": [],
      "source": [
        "# Initialize variables to store all data\n",
        "all_predictions = []\n",
        "all_labels = []\n",
        "all_images = []\n",
        "\n",
        "# Process test set in batches\n",
        "with torch.no_grad():\n",
        "    for images, labels in testset_loader:\n",
        "        images, labels = images.to(device), labels.to(device)\n",
        "\n",
        "        outputs = cnn_model(images)\n",
        "\n",
        "        # Apply softmax to get probabilities from the predicted logits\n",
        "        probabilities = torch.nn.functional.softmax(outputs, dim=1)\n",
        "\n",
        "        # Get predicted classes\n",
        "        predicted = torch.argmax(probabilities, dim=1)\n",
        "\n",
        "        all_predictions.append(probabilities)\n",
        "        all_labels.append(labels)\n",
        "        all_images.append(images)\n",
        "\n",
        "all_predictions = torch.cat(all_predictions)  # Shape: (total_samples, num_classes)\n",
        "all_labels = torch.cat(all_labels)            # Shape: (total_samples,)\n",
        "all_images = torch.cat(all_images)            # Shape: (total_samples, 1, 28, 28)\n",
        "\n",
        "# Convert tensors to NumPy for compatibility with plotting functions\n",
        "predictions = all_predictions.cpu().numpy()  # Shape: (total_samples, num_classes)\n",
        "test_labels = all_labels.cpu().numpy()       # Shape: (total_samples,)\n",
        "test_images = all_images.cpu().numpy()       # Shape: (total_samples, 1, 28, 28)"
      ]
    },
    {
      "cell_type": "code",
      "execution_count": 32,
      "metadata": {
        "id": "HV5jw-5HwSmO",
        "colab": {
          "base_uri": "https://localhost:8080/",
          "height": 479
        },
        "outputId": "b8ea9c4f-7181-4a1f-d532-7403cb991b59"
      },
      "outputs": [
        {
          "output_type": "execute_result",
          "data": {
            "text/plain": [
              "{'web': 'https://www.comet.com/api/image/download?imageId=a3839e073cb346739458014833bc9bc0&experimentKey=7ded5bbc6a9c48e59a8773fa0c70400e',\n",
              " 'api': 'https://www.comet.com/api/rest/v1/image/get-image?imageId=a3839e073cb346739458014833bc9bc0&experimentKey=7ded5bbc6a9c48e59a8773fa0c70400e',\n",
              " 'imageId': 'a3839e073cb346739458014833bc9bc0'}"
            ]
          },
          "metadata": {},
          "execution_count": 32
        },
        {
          "output_type": "display_data",
          "data": {
            "text/plain": [
              "<Figure size 640x480 with 2 Axes>"
            ],
            "image/png": "[encoded data removed]"
          },
          "metadata": {}
        }
      ],
      "source": [
        "#@title Change the slider to look at the model's predictions! { run: \"auto\" }\n",
        "\n",
        "image_index = 11 #@param {type:\"slider\", min:0, max:100, step:1}\n",
        "plt.subplot(1,2,1)\n",
        "mdl.lab2.plot_image_prediction(image_index, predictions, test_labels, test_images)\n",
        "plt.subplot(1,2,2)\n",
        "mdl.lab2.plot_value_prediction(image_index, predictions, test_labels)\n",
        "comet_model_2.log_figure(figure=plt)"
      ]
    },
    {
      "cell_type": "markdown",
      "metadata": {
        "id": "kgdvGD52CaXR"
      },
      "source": [
        "We can also plot several images along with their predictions, where correct prediction labels are blue and incorrect prediction labels are grey. The number gives the percent confidence (out of 100) for the predicted label. Note the model can be very confident in an incorrect prediction!"
      ]
    },
    {
      "cell_type": "code",
      "execution_count": 33,
      "metadata": {
        "id": "hQlnbqaw2Qu_",
        "colab": {
          "base_uri": "https://localhost:8080/",
          "height": 1000
        },
        "outputId": "b393cb69-c2f8-4a13-f536-80c15584d576"
      },
      "outputs": [
        {
          "output_type": "stream",
          "name": "stderr",
          "text": [
            "\u001b[1;38;5;39mCOMET INFO:\u001b[0m ---------------------------------------------------------------------------------------\n",
            "\u001b[1;38;5;39mCOMET INFO:\u001b[0m Comet.ml Experiment Summary\n",
            "\u001b[1;38;5;39mCOMET INFO:\u001b[0m ---------------------------------------------------------------------------------------\n",
            "\u001b[1;38;5;39mCOMET INFO:\u001b[0m   Data:\n",
            "\u001b[1;38;5;39mCOMET INFO:\u001b[0m     display_summary_level : 1\n",
            "\u001b[1;38;5;39mCOMET INFO:\u001b[0m     name                  : surprised_oil_2946\n",
            "\u001b[1;38;5;39mCOMET INFO:\u001b[0m     url                   : https://www.comet.com/jspark9703/6-s191lab2-part1-cnn/7ded5bbc6a9c48e59a8773fa0c70400e\n",
            "\u001b[1;38;5;39mCOMET INFO:\u001b[0m   Metrics [count] (min, max):\n",
            "\u001b[1;38;5;39mCOMET INFO:\u001b[0m     loss [6566] : (1.4535919427871704, 2.4994513988494873)\n",
            "\u001b[1;38;5;39mCOMET INFO:\u001b[0m   Others:\n",
            "\u001b[1;38;5;39mCOMET INFO:\u001b[0m     notebook_url : https://colab.research.google.com/notebook#fileId=https%3A%2F%2Fgithub.com%2Fjspark9703%2FdlearningStudy%2Fblob%2Fmain%2Flab2%2FPT_Part1_MNIST.ipynb\n",
            "\u001b[1;38;5;39mCOMET INFO:\u001b[0m   Uploads:\n",
            "\u001b[1;38;5;39mCOMET INFO:\u001b[0m     environment details : 1\n",
            "\u001b[1;38;5;39mCOMET INFO:\u001b[0m     figures             : 4\n",
            "\u001b[1;38;5;39mCOMET INFO:\u001b[0m     filename            : 1\n",
            "\u001b[1;38;5;39mCOMET INFO:\u001b[0m     installed packages  : 1\n",
            "\u001b[1;38;5;39mCOMET INFO:\u001b[0m     notebook            : 2\n",
            "\u001b[1;38;5;39mCOMET INFO:\u001b[0m     os packages         : 1\n",
            "\u001b[1;38;5;39mCOMET INFO:\u001b[0m     source_code         : 1\n",
            "\u001b[1;38;5;39mCOMET INFO:\u001b[0m \n",
            "\u001b[1;38;5;214mCOMET WARNING:\u001b[0m To get all data logged automatically, import comet_ml before the following modules: sklearn, torch, keras, tensorflow.\n",
            "ERROR:sentry_sdk.errors:Internal error in sentry_sdk\n",
            "Traceback (most recent call last):\n",
            "  File \"/usr/local/lib/python3.11/dist-packages/urllib3/connectionpool.py\", line 787, in urlopen\n",
            "    response = self._make_request(\n",
            "               ^^^^^^^^^^^^^^^^^^^\n",
            "  File \"/usr/local/lib/python3.11/dist-packages/urllib3/connectionpool.py\", line 534, in _make_request\n",
            "    response = conn.getresponse()\n",
            "               ^^^^^^^^^^^^^^^^^^\n",
            "  File \"/usr/local/lib/python3.11/dist-packages/urllib3/connection.py\", line 516, in getresponse\n",
            "    httplib_response = super().getresponse()\n",
            "                       ^^^^^^^^^^^^^^^^^^^^^\n",
            "  File \"/usr/lib/python3.11/http/client.py\", line 1395, in getresponse\n",
            "    response.begin()\n",
            "  File \"/usr/lib/python3.11/http/client.py\", line 325, in begin\n",
            "    version, status, reason = self._read_status()\n",
            "                              ^^^^^^^^^^^^^^^^^^^\n",
            "  File \"/usr/lib/python3.11/http/client.py\", line 294, in _read_status\n",
            "    raise RemoteDisconnected(\"Remote end closed connection without\"\n",
            "http.client.RemoteDisconnected: Remote end closed connection without response\n",
            "\n",
            "During handling of the above exception, another exception occurred:\n",
            "\n",
            "Traceback (most recent call last):\n",
            "  File \"/usr/local/lib/python3.11/dist-packages/sentry_sdk/transport.py\", line 563, in send_envelope_wrapper\n",
            "    self._send_envelope(envelope)\n",
            "  File \"/usr/local/lib/python3.11/dist-packages/sentry_sdk/transport.py\", line 497, in _send_envelope\n",
            "    self._send_request(\n",
            "  File \"/usr/local/lib/python3.11/dist-packages/sentry_sdk/transport.py\", line 349, in _send_request\n",
            "    response = self._request(\n",
            "               ^^^^^^^^^^^^^^\n",
            "  File \"/usr/local/lib/python3.11/dist-packages/sentry_sdk/transport.py\", line 713, in _request\n",
            "    return self._pool.request(\n",
            "           ^^^^^^^^^^^^^^^^^^^\n",
            "  File \"/usr/local/lib/python3.11/dist-packages/urllib3/_request_methods.py\", line 143, in request\n",
            "    return self.request_encode_body(\n",
            "           ^^^^^^^^^^^^^^^^^^^^^^^^^\n",
            "  File \"/usr/local/lib/python3.11/dist-packages/urllib3/_request_methods.py\", line 278, in request_encode_body\n",
            "    return self.urlopen(method, url, **extra_kw)\n",
            "           ^^^^^^^^^^^^^^^^^^^^^^^^^^^^^^^^^^^^^\n",
            "  File \"/usr/local/lib/python3.11/dist-packages/urllib3/poolmanager.py\", line 443, in urlopen\n",
            "    response = conn.urlopen(method, u.request_uri, **kw)\n",
            "               ^^^^^^^^^^^^^^^^^^^^^^^^^^^^^^^^^^^^^^^^^\n",
            "  File \"/usr/local/lib/python3.11/dist-packages/urllib3/connectionpool.py\", line 841, in urlopen\n",
            "    retries = retries.increment(\n",
            "              ^^^^^^^^^^^^^^^^^^\n",
            "  File \"/usr/local/lib/python3.11/dist-packages/urllib3/util/retry.py\", line 474, in increment\n",
            "    raise reraise(type(error), error, _stacktrace)\n",
            "          ^^^^^^^^^^^^^^^^^^^^^^^^^^^^^^^^^^^^^^^^\n",
            "  File \"/usr/local/lib/python3.11/dist-packages/urllib3/util/util.py\", line 38, in reraise\n",
            "    raise value.with_traceback(tb)\n",
            "  File \"/usr/local/lib/python3.11/dist-packages/urllib3/connectionpool.py\", line 787, in urlopen\n",
            "    response = self._make_request(\n",
            "               ^^^^^^^^^^^^^^^^^^^\n",
            "  File \"/usr/local/lib/python3.11/dist-packages/urllib3/connectionpool.py\", line 534, in _make_request\n",
            "    response = conn.getresponse()\n",
            "               ^^^^^^^^^^^^^^^^^^\n",
            "  File \"/usr/local/lib/python3.11/dist-packages/urllib3/connection.py\", line 516, in getresponse\n",
            "    httplib_response = super().getresponse()\n",
            "                       ^^^^^^^^^^^^^^^^^^^^^\n",
            "  File \"/usr/lib/python3.11/http/client.py\", line 1395, in getresponse\n",
            "    response.begin()\n",
            "  File \"/usr/lib/python3.11/http/client.py\", line 325, in begin\n",
            "    version, status, reason = self._read_status()\n",
            "                              ^^^^^^^^^^^^^^^^^^^\n",
            "  File \"/usr/lib/python3.11/http/client.py\", line 294, in _read_status\n",
            "    raise RemoteDisconnected(\"Remote end closed connection without\"\n",
            "urllib3.exceptions.ProtocolError: ('Connection aborted.', RemoteDisconnected('Remote end closed connection without response'))\n"
          ]
        },
        {
          "output_type": "display_data",
          "data": {
            "text/plain": [
              "<Figure size 1600x1000 with 40 Axes>"
            ],
            "image/png": "[encoded data removed]"
          },
          "metadata": {}
        }
      ],
      "source": [
        "# Plots the first X test images, their predicted label, and the true label\n",
        "# Color correct predictions in blue, incorrect predictions in red\n",
        "num_rows = 5\n",
        "num_cols = 4\n",
        "num_images = num_rows*num_cols\n",
        "plt.figure(figsize=(2*2*num_cols, 2*num_rows))\n",
        "for i in range(num_images):\n",
        "  plt.subplot(num_rows, 2*num_cols, 2*i+1)\n",
        "  mdl.lab2.plot_image_prediction(i, predictions, test_labels, test_images)\n",
        "  plt.subplot(num_rows, 2*num_cols, 2*i+2)\n",
        "  mdl.lab2.plot_value_prediction(i, predictions, test_labels)\n",
        "comet_model_2.log_figure(figure=plt)\n",
        "comet_model_2.end()"
      ]
    },
    {
      "cell_type": "markdown",
      "metadata": {
        "id": "3cNtDhVaqEdR"
      },
      "source": [
        "## 1.5 Conclusion\n",
        "In this part of the lab, you had the chance to play with different MNIST classifiers with different architectures (fully-connected layers only, CNN), and experiment with how different hyperparameters affect accuracy (learning rate, etc.). The next part of the lab explores another application of CNNs, facial detection, and some drawbacks of AI systems in real world applications, like issues of bias."
      ]
    },
    {
      "cell_type": "markdown",
      "source": [
        "## twist CNN\n"
      ],
      "metadata": {
        "id": "lAP_NJWSEJLo"
      }
    },
    {
      "cell_type": "markdown",
      "source": [
        "항목\t변경 사항 설명  \n",
        "Conv Layer 수\t2 → 3개로 증가 (표현력 강화)  \n",
        "BatchNorm\t각 Conv 뒤에 추가, 학습 안정화  \n",
        "AdaptiveAvgPool2d\t고정 출력 크기 (3x3) 유지 위해 사용   \n",
        "Dropout\t과적합 방지를 위해 FC1 뒤에 0.5 확률로 추가   \n",
        "FC 구조\t128 * 3 * 3 → 256 → 10으로 변경   \n",
        "Optimizer\tSGD → Adam, 더 빠른 수렴과 안정성 확보  "
      ],
      "metadata": {
        "id": "Ec4Z0x2mEM9-"
      }
    },
    {
      "cell_type": "code",
      "source": [
        "\n",
        "\n",
        "class CNN(nn.Module):\n",
        "    def __init__(self):\n",
        "        super(CNN, self).__init__()\n",
        "        self.conv1 = nn.Conv2d(1, 32, kernel_size=3, padding=1)\n",
        "        self.bn1 = nn.BatchNorm2d(32)\n",
        "        self.pool1 = nn.MaxPool2d(2, 2)\n",
        "\n",
        "        self.conv2 = nn.Conv2d(32, 64, kernel_size=3, padding=1)\n",
        "        self.bn2 = nn.BatchNorm2d(64)\n",
        "        self.pool2 = nn.MaxPool2d(2, 2)\n",
        "\n",
        "        self.conv3 = nn.Conv2d(64, 128, kernel_size=3, padding=1)\n",
        "        self.bn3 = nn.BatchNorm2d(128)\n",
        "        self.pool3 = nn.AdaptiveAvgPool2d((3, 3))\n",
        "\n",
        "        self.flatten = nn.Flatten()\n",
        "        self.fc1 = nn.Linear(128 * 3 * 3, 256)\n",
        "        self.dropout = nn.Dropout(0.5)\n",
        "        self.relu = nn.ReLU()\n",
        "        self.fc2 = nn.Linear(256, 10)\n",
        "\n",
        "    def forward(self, x):\n",
        "        x = self.pool1(self.relu(self.bn1(self.conv1(x))))\n",
        "        x = self.pool2(self.relu(self.bn2(self.conv2(x))))\n",
        "        x = self.pool3(self.relu(self.bn3(self.conv3(x))))\n",
        "        x = self.flatten(x)\n",
        "        x = self.relu(self.fc1(x))\n",
        "        x = self.dropout(x)\n",
        "        x = self.fc2(x)\n",
        "        return x\n",
        "\n",
        "# Instantiate model\n",
        "cnn_model = CNN().to(device)\n",
        "\n",
        "# Set hyperparameters\n",
        "batch_size = 64\n",
        "epochs = 10\n",
        "learning_rate = 1e-3\n",
        "\n",
        "# Optimizer: Adam으로 변경\n",
        "optimizer = optim.Adam(cnn_model.parameters(), lr=learning_rate)\n",
        "\n",
        "# Loss function\n",
        "loss_function = nn.CrossEntropyLoss()\n",
        "\n",
        "# 데이터로더 정의\n",
        "trainset_loader = DataLoader(augmented_train_dataset, batch_size=batch_size, shuffle=True)\n",
        "testset_loader = DataLoader(augmented_test_dataset, batch_size=batch_size, shuffle=False)\n"
      ],
      "metadata": {
        "id": "0DOwohJxDE85"
      },
      "execution_count": 34,
      "outputs": []
    },
    {
      "cell_type": "code",
      "source": [
        "loss_history = mdl.util.LossHistory(smoothing_factor=0.95) # to record the evolution of the loss\n",
        "plotter = mdl.util.PeriodicPlotter(sec=2, xlabel='Iterations', ylabel='Loss', scale='semilogy')\n",
        "\n",
        "# Initialize new comet experiment\n",
        "comet_ml.init(project_name=\"6.s191lab2_part1_CNN_twist\")\n",
        "comet_model_4 = comet_ml.Experiment()\n",
        "\n",
        "if hasattr(tqdm, '_instances'): tqdm._instances.clear() # clear if it exists\n",
        "\n",
        "# Training loop!\n",
        "cnn_model.train()\n",
        "\n",
        "for epoch in range(epochs):\n",
        "    total_loss = 0\n",
        "    correct_pred = 0\n",
        "    total_pred = 0\n",
        "\n",
        "    # First grab a batch of training data which our data loader returns as a tensor\n",
        "    for idx, (images, labels) in enumerate(tqdm(trainset_loader)):\n",
        "        images, labels = images.to(device), labels.to(device)\n",
        "\n",
        "        # Forward pass\n",
        "        # TODO: feed the images into the model and obtain the predictions\n",
        "        logits  =cnn_model(images)\n",
        "\n",
        "        # TODO: compute the categorical cross entropy loss using the predicted logits\n",
        "        loss = loss_function(logits, labels)\n",
        "\n",
        "        # Get the loss and log it to comet and the loss_history record\n",
        "        loss_value = loss.item()\n",
        "        comet_model_2.log_metric(\"loss\", loss_value, step=idx)\n",
        "        loss_history.append(loss_value) # append the loss to the loss_history record\n",
        "        plotter.plot(loss_history.get())\n",
        "\n",
        "        # Backpropagation/backward pass\n",
        "\n",
        "        optimizer.zero_grad()     # Reset optimizer\n",
        "        loss.backward()           # Compute gradients\n",
        "        optimizer.step()          # Update model parameters\n",
        "\n",
        "        # Get the prediction and tally metrics\n",
        "        predicted = torch.argmax(logits, dim=1)\n",
        "        correct_pred += (predicted == labels).sum().item()\n",
        "        total_pred += labels.size(0)\n",
        "\n",
        "    # Compute metrics\n",
        "    total_epoch_loss = total_loss / total_pred\n",
        "    epoch_accuracy = correct_pred / total_pred\n",
        "    print(f\"Epoch {epoch + 1}, Loss: {total_epoch_loss}, Accuracy: {epoch_accuracy:.4f}\")\n",
        "\n",
        "comet_model_2.log_figure(figure=plt)"
      ],
      "metadata": {
        "id": "LSyjEuecEwXx",
        "outputId": "08a91ab7-7767-457d-e20d-e5dd55b744da",
        "colab": {
          "base_uri": "https://localhost:8080/",
          "height": 918
        }
      },
      "execution_count": 35,
      "outputs": [
        {
          "output_type": "display_data",
          "data": {
            "text/plain": [
              "<Figure size 640x480 with 1 Axes>"
            ],
            "image/png": "[encoded data removed]"
          },
          "metadata": {}
        },
        {
          "output_type": "stream",
          "name": "stderr",
          "text": [
            "100%|██████████| 938/938 [00:22<00:00, 42.32it/s]"
          ]
        },
        {
          "output_type": "stream",
          "name": "stdout",
          "text": [
            "Epoch 10, Loss: 0.0, Accuracy: 0.9149\n"
          ]
        },
        {
          "output_type": "stream",
          "name": "stderr",
          "text": [
            "\n"
          ]
        },
        {
          "output_type": "display_data",
          "data": {
            "text/plain": [
              "<Figure size 640x480 with 1 Axes>"
            ],
            "image/png": "[encoded data removed]"
          },
          "metadata": {}
        }
      ]
    },
    {
      "cell_type": "code",
      "source": [
        "def evaluate(model, dataloader, loss_fn):\n",
        "    model.eval()\n",
        "    total_loss = 0\n",
        "    correct = 0\n",
        "    total = 0\n",
        "\n",
        "    with torch.no_grad():\n",
        "        for images, labels in dataloader:\n",
        "            images, labels = images.to(device), labels.to(device)\n",
        "\n",
        "            outputs = model(images)\n",
        "            loss = loss_fn(outputs, labels)\n",
        "\n",
        "            total_loss += loss.item()\n",
        "            predicted = torch.argmax(outputs, dim=1)\n",
        "            correct += (predicted == labels).sum().item()\n",
        "            total += labels.size(0)\n",
        "\n",
        "    avg_loss = total_loss / total\n",
        "    accuracy = correct / total\n",
        "\n",
        "    model.train()  # 다시 학습 모드로 전환\n",
        "    return avg_loss, accuracy\n",
        "test_loss, test_acc = evaluate(cnn_model, testset_loader, loss_function)\n",
        "\n",
        "print('Test accuracy:', test_acc)"
      ],
      "metadata": {
        "id": "IW_swlnOLhbr",
        "outputId": "e83cf0a7-b29e-4eed-d7e4-8053a8f1be99",
        "colab": {
          "base_uri": "https://localhost:8080/"
        }
      },
      "execution_count": 47,
      "outputs": [
        {
          "output_type": "stream",
          "name": "stdout",
          "text": [
            "Test accuracy: 0.9463\n"
          ]
        }
      ]
    },
    {
      "cell_type": "code",
      "source": [
        "data_iter = iter(augmented_test_loader)\n",
        "test_image, test_label = next(data_iter)\n",
        "\n",
        "test_image = test_image.to(device)\n",
        "test_label = test_label.to(device)\n",
        "\n",
        "cnn_model.eval()\n",
        "predictions_test_image = cnn_model(test_image)\n"
      ],
      "metadata": {
        "id": "XKGJj6p0GjHc"
      },
      "execution_count": 39,
      "outputs": []
    },
    {
      "cell_type": "code",
      "source": [
        "print(predictions_test_image)"
      ],
      "metadata": {
        "id": "SETkPUvPG_mg",
        "outputId": "88130ecc-1190-4fd3-a4ca-b42e99dcc3b6",
        "colab": {
          "base_uri": "https://localhost:8080/"
        }
      },
      "execution_count": 40,
      "outputs": [
        {
          "output_type": "stream",
          "name": "stdout",
          "text": [
            "tensor([[-8.2454e+00,  1.2650e+00, -1.5818e+00, -6.5082e+00, -6.3023e+00,\n",
            "         -4.7779e+00, -5.8145e+00,  8.0328e+00, -9.1703e+00, -2.5577e+00],\n",
            "        [-1.8017e+00, -3.5350e+00,  5.8520e+00, -1.5214e+00, -1.0516e+01,\n",
            "         -7.2823e+00, -1.1755e+00, -4.6175e-01, -3.1960e+00, -7.1024e+00],\n",
            "        [-1.3661e+01,  1.2814e+01, -5.9376e+00, -1.0232e+01, -7.8242e+00,\n",
            "         -6.8737e-01, -2.5094e+00, -5.0227e+00, -5.8663e+00, -4.7246e+00],\n",
            "        [ 7.8672e+00, -6.9895e+00, -3.8176e+00, -9.3629e+00, -9.3409e+00,\n",
            "         -4.3438e+00, -4.1021e-01, -2.6688e+00, -3.3966e+00,  1.4017e+00],\n",
            "        [-1.8690e+01, -1.3076e+00, -8.8815e+00, -1.0346e+01,  1.0454e+01,\n",
            "         -1.5572e+00, -7.4487e+00, -4.0477e+00, -2.2403e+00,  2.0679e-01],\n",
            "        [-1.6243e+01,  1.5718e+01, -6.9771e+00, -1.1684e+01, -1.0171e+01,\n",
            "         -2.0366e+00, -4.8909e+00, -5.3182e+00, -6.2077e+00, -4.0071e+00],\n",
            "        [-1.3743e+01, -2.8321e+00, -4.8945e+00, -5.0063e+00,  5.3563e+00,\n",
            "         -2.0229e+00, -4.6638e+00, -3.5302e-01, -9.7693e-02,  1.4993e+00],\n",
            "        [-2.4077e+00, -7.9829e+00, -3.0515e+00, -1.8409e+00, -3.8423e+00,\n",
            "          1.5186e+00,  3.0776e+00, -1.0024e+01,  1.0987e+00, -1.6648e+00],\n",
            "        [-5.6083e+00, -5.3197e+00, -2.9607e+00,  1.8060e+00, -1.7508e+00,\n",
            "          2.0629e+00,  2.5283e-01, -6.8379e+00, -2.0287e-01, -3.1032e+00],\n",
            "        [-5.4617e+00, -1.1600e+01, -5.6778e+00, -6.9983e+00, -2.8530e+00,\n",
            "         -6.9548e+00, -5.2393e+00, -3.1525e+00, -7.8648e-01,  8.2590e+00],\n",
            "        [ 7.0302e+00, -9.3232e+00, -3.6525e-01, -2.8256e+00, -1.3930e+01,\n",
            "         -1.3136e+00, -3.2677e+00, -6.4341e-01, -6.7541e+00, -1.2187e+00],\n",
            "        [-1.1970e+00, -2.0330e+01, -1.3655e+01, -1.2372e+01, -1.1699e+01,\n",
            "          5.6269e+00,  1.2693e+01, -2.3133e+01, -3.9353e+00,  1.5902e-01],\n",
            "        [-8.2680e+00, -1.1689e+01, -7.4957e+00, -7.4341e+00, -7.7599e-01,\n",
            "         -5.6029e+00, -4.5381e+00, -4.4963e+00,  7.9719e-01,  7.9982e+00],\n",
            "        [ 1.0634e+01, -1.0311e+01, -4.3807e+00, -9.1740e+00, -1.5648e+01,\n",
            "         -3.2328e+00, -4.4089e-01, -2.5356e+00, -6.9904e+00,  1.1987e+00],\n",
            "        [-1.1316e+01,  8.8149e+00, -2.5456e+00, -6.7292e+00, -4.2007e+00,\n",
            "         -2.0927e+00, -5.9484e+00, -9.2362e-01, -4.8710e+00, -3.4793e+00],\n",
            "        [-9.3803e+00, -5.2162e+00, -3.7596e+00,  3.4474e+00,  1.0915e-01,\n",
            "          3.7075e+00, -9.0015e+00, -1.5963e+00, -4.3269e+00, -2.0607e+00],\n",
            "        [-6.2986e+00, -8.7091e+00, -6.9542e+00, -6.6927e+00, -2.8939e-01,\n",
            "         -5.2826e+00, -5.0599e+00, -1.7464e+00, -9.1160e-01,  6.8680e+00],\n",
            "        [-1.0788e+00, -2.0524e+00, -4.2489e+00, -5.4653e+00, -6.6314e+00,\n",
            "          6.7855e-01, -3.4789e+00,  4.8052e+00, -7.7905e+00, -5.7985e-01],\n",
            "        [ 1.8878e+00, -9.6782e+00,  9.9051e-01,  2.1712e+00, -9.4727e+00,\n",
            "         -1.1226e+00, -2.0175e+00, -6.2996e+00,  1.3867e+00, -3.1051e-01],\n",
            "        [-1.4135e+01,  3.0922e-01, -3.5837e+00, -4.8277e+00,  6.3116e+00,\n",
            "         -4.2716e+00, -7.8583e+00,  2.2999e+00, -1.8699e+00,  1.1199e+00],\n",
            "        [-3.3979e+00, -3.7959e+00, -3.1175e+00, -2.5723e+00, -1.1005e+00,\n",
            "         -4.3247e+00, -5.5479e+00,  1.5598e+00, -2.8187e+00,  3.9877e+00],\n",
            "        [-1.4896e+00, -1.3847e+01, -6.2825e+00, -2.4821e+00, -8.7423e+00,\n",
            "          1.9942e+00,  5.9274e+00, -1.4385e+01,  9.7832e-01, -2.0467e-01],\n",
            "        [-5.4529e+00, -1.2384e+01, -1.1608e+01, -1.0888e+01, -5.8373e+00,\n",
            "          5.9212e+00,  1.0019e+01, -2.0036e+01, -2.6599e+00, -1.1811e+00],\n",
            "        [-7.0849e+00, -1.4759e+01, -9.5290e+00,  4.7766e+00, -7.5484e+00,\n",
            "          8.3362e+00, -3.7433e+00, -5.4731e+00, -7.2097e+00,  1.9274e-01],\n",
            "        [-4.3159e+00,  1.0125e-01, -1.8031e+00,  2.9221e-01,  1.3060e+00,\n",
            "          8.6573e-01, -6.2586e+00,  1.8108e+00, -4.6395e+00, -1.2400e+00],\n",
            "        [ 5.8925e+00, -3.9271e+00, -4.8371e-01, -6.4883e+00, -7.1149e+00,\n",
            "         -4.9923e+00,  1.8324e-02, -2.5736e+00, -1.1714e+00, -7.0848e-01],\n",
            "        [-5.8580e+00,  1.6260e+00,  1.7133e-01, -2.3945e+00, -5.0602e+00,\n",
            "         -5.0906e+00, -1.0731e+01,  7.4589e+00, -8.9408e+00, -3.6858e+00],\n",
            "        [-1.7001e+01, -1.8094e-01, -4.7346e+00, -5.3988e+00,  7.7295e+00,\n",
            "         -2.9489e+00, -7.4988e+00, -3.4370e-01, -1.8911e+00, -2.6834e-01],\n",
            "        [ 7.5537e+00, -9.1446e+00, -3.4768e+00, -8.0645e+00, -1.1438e+01,\n",
            "         -3.6147e+00,  9.5444e-01, -4.5303e+00, -2.2764e+00,  1.4845e+00],\n",
            "        [-9.0172e+00,  9.4855e+00, -7.0948e+00, -1.1920e+01, -5.7869e+00,\n",
            "         -3.2783e+00, -3.0661e+00, -1.4930e+00, -6.1678e+00, -1.2069e+00],\n",
            "        [-8.6746e+00, -5.6290e+00, -1.6499e+00,  7.2816e+00, -4.2451e+00,\n",
            "         -1.2780e+00, -7.6147e+00,  4.1810e-01, -3.4608e+00, -4.0405e+00],\n",
            "        [-1.0772e+01,  1.0158e+01, -5.6967e+00, -1.0882e+01, -6.0591e+00,\n",
            "         -2.3309e+00, -2.0967e+00, -2.7810e+00, -5.5067e+00, -3.0050e+00],\n",
            "        [-1.4014e+01, -6.0822e+00, -1.1785e+00,  8.8793e+00, -3.8077e+00,\n",
            "         -3.1659e+00, -9.6870e+00, -1.0994e+00, -9.3055e-01, -5.9839e+00],\n",
            "        [-4.8842e+00, -8.9352e-01,  2.3189e+00, -3.9837e+00,  7.8526e-02,\n",
            "         -7.5608e-01, -7.6131e-01, -5.2533e+00, -2.2727e+00, -7.8430e+00],\n",
            "        [-4.5231e+00,  1.5139e+00, -3.3637e+00, -6.0952e+00, -4.2076e+00,\n",
            "         -3.6545e+00, -8.4618e+00,  7.2080e+00, -8.3090e+00, -8.5028e-01],\n",
            "        [-7.2305e+00, -1.8654e+00,  8.5162e+00, -3.1061e+00, -4.9238e+00,\n",
            "         -9.7804e+00, -4.6004e+00, -4.3427e-01, -7.7687e-01, -1.0044e+01],\n",
            "        [-4.5086e+00, -8.1492e-01,  3.6032e+00, -1.2495e+00, -2.1997e+00,\n",
            "         -5.0652e+00, -3.9095e+00,  1.5603e+00, -1.3765e+00, -3.9487e+00],\n",
            "        [-1.1711e+01,  1.2234e+01, -5.8674e+00, -1.0602e+01, -8.1166e+00,\n",
            "         -2.3768e+00, -3.6972e+00, -1.8753e+00, -5.4921e+00, -3.8177e+00],\n",
            "        [-6.6403e+00, -2.0541e+00,  5.6022e+00,  2.1204e+00, -4.7006e+00,\n",
            "         -6.4327e+00, -6.3856e+00,  5.8728e-01, -1.6965e+00, -6.7813e+00],\n",
            "        [-6.4958e+00,  9.0239e+00, -3.2578e+00, -8.5886e+00, -7.3098e+00,\n",
            "         -2.4818e+00, -5.1419e-01, -3.6120e+00, -2.7226e+00, -3.8377e+00],\n",
            "        [-6.2727e+00,  7.9478e+00, -2.7671e+00, -7.3755e+00, -5.5518e+00,\n",
            "         -2.2168e+00, -4.0596e+00, -1.9525e-01, -4.8647e+00, -2.7952e+00],\n",
            "        [-1.0665e+01,  9.3357e-01,  2.7050e+00, -1.6071e+00,  8.4616e-01,\n",
            "         -5.0113e+00, -5.6148e+00,  3.7281e+00, -2.0154e+00, -3.9770e+00],\n",
            "        [-1.5128e+01, -1.6575e+00, -9.1302e+00, -3.7832e+00,  7.3031e+00,\n",
            "          3.7236e-01, -6.4616e+00, -7.7771e-01, -3.5979e+00,  1.4105e+00],\n",
            "        [-9.8695e+00,  2.3796e+00,  6.7455e-01, -5.2696e+00,  2.5251e+00,\n",
            "         -5.1580e+00, -4.4999e+00,  3.8396e+00, -3.1139e+00, -3.1099e+00],\n",
            "        [-8.7498e+00, -7.0333e+00, -5.3368e-01,  8.2761e+00, -6.5564e+00,\n",
            "         -1.1468e+00, -1.1440e+01,  1.3153e+00, -6.1562e+00, -2.3731e+00],\n",
            "        [-1.1243e+01, -1.8030e+01, -1.1987e+01, -4.2027e-01, -2.8842e+00,\n",
            "          6.2252e+00, -2.2892e+00, -1.2860e+01,  1.9890e+00,  1.6143e+00],\n",
            "        [-9.9770e+00,  1.0117e+01, -2.5609e+00, -8.9583e+00, -6.3558e+00,\n",
            "         -3.6796e+00, -3.6832e+00, -2.0544e+00, -3.5747e+00, -3.5944e+00],\n",
            "        [-8.1843e+00, -3.3310e+00,  7.5073e+00, -3.7552e+00, -5.2144e+00,\n",
            "         -1.1751e+01, -3.6412e+00, -1.5159e-01,  1.8257e+00, -6.6184e+00],\n",
            "        [-1.3335e+01, -1.3036e+00, -2.6272e+00, -5.4878e+00,  6.1502e+00,\n",
            "         -3.6689e+00, -6.1275e+00, -1.3207e+00,  1.6239e+00, -5.4815e-01],\n",
            "        [-1.7112e+01, -1.9998e+00, -6.4100e+00, -3.3701e+00,  7.6584e+00,\n",
            "         -3.2770e+00, -8.4977e+00, -9.3818e-01,  7.0586e-02, -9.4166e-02],\n",
            "        [-2.0563e+00, -9.3733e+00, -1.0899e+01, -9.2712e+00, -5.5575e+00,\n",
            "          2.3499e+00,  7.6193e+00, -9.7275e+00, -3.6549e+00,  4.0874e+00],\n",
            "        [-8.7977e+00, -7.5505e+00, -2.8577e-01,  7.7966e+00, -6.6615e+00,\n",
            "         -2.0653e+00, -6.5519e+00, -1.6277e+00, -2.8047e+00, -5.4005e+00],\n",
            "        [-5.2984e+00, -1.2535e+01, -1.2315e+01, -4.4932e+00, -3.8428e+00,\n",
            "          8.7939e+00,  2.8305e+00, -1.0153e+01, -8.8335e+00,  1.8167e-01],\n",
            "        [-1.8682e+00, -9.0880e+00, -5.0577e+00,  2.9821e+00, -6.1275e+00,\n",
            "          4.7103e+00, -4.2484e+00, -1.2213e+00, -9.0770e+00, -4.3089e-01],\n",
            "        [-2.0719e-01, -1.2571e+01, -4.2748e+00, -3.3361e+00, -5.5050e+00,\n",
            "         -1.1957e+00,  1.9833e+00, -9.2095e+00,  2.2827e+00,  2.7939e+00],\n",
            "        [ 8.6634e+00, -9.8579e+00, -2.7745e+00, -9.2248e+00, -1.2486e+01,\n",
            "         -4.4788e+00, -1.3843e-01, -4.0183e+00, -3.2896e+00,  9.3081e-01],\n",
            "        [-1.6951e+01, -2.4370e+00, -5.1169e+00, -1.7393e+00,  6.7305e+00,\n",
            "         -2.5523e+00, -8.2806e+00, -2.7412e-01,  6.9031e-02, -9.3693e-01],\n",
            "        [-1.2756e+01,  1.1898e+01, -8.3558e+00, -1.3099e+01, -6.0505e+00,\n",
            "         -2.4691e+00,  7.5674e-01, -6.8433e+00, -4.1105e+00, -1.8054e+00],\n",
            "        [-1.2368e+00, -8.5847e+00, -4.6783e+00, -4.6724e+00, -3.7993e+00,\n",
            "         -3.5313e+00, -3.4417e+00, -1.6354e+00, -2.3259e+00,  5.2734e+00],\n",
            "        [-6.2589e+00, -1.7135e+00, -3.6980e+00, -1.0801e+00, -3.4825e-01,\n",
            "          2.9625e+00, -2.1541e+00, -2.1766e+00, -4.8806e+00, -1.0550e+00],\n",
            "        [-4.3496e+00, -3.1048e-01, -2.4505e+00, -4.9569e+00, -6.1107e+00,\n",
            "         -1.8125e+00, -1.9756e+00,  4.9643e+00, -7.1427e+00, -1.5679e+00],\n",
            "        [-8.1268e+00, -1.2080e+01, -6.4313e-01, -3.3541e+00, -2.8691e+00,\n",
            "         -6.8487e+00, -2.8845e+00, -7.4707e+00,  6.7351e+00, -3.5806e-02],\n",
            "        [-1.5729e+00, -5.1108e+00, -6.1524e+00, -6.1318e+00, -4.4343e-01,\n",
            "         -1.2864e+00, -1.3618e+00, -1.7428e+00, -2.7433e+00,  3.9680e+00],\n",
            "        [-8.2111e+00, -5.8197e+00, -5.7898e-01,  6.2996e+00, -3.6655e+00,\n",
            "         -3.0080e+00, -5.2662e+00, -2.3353e+00, -8.8785e-02, -4.1784e+00]],\n",
            "       device='cuda:0', grad_fn=<AddmmBackward0>)\n"
          ]
        }
      ]
    },
    {
      "cell_type": "code",
      "source": [
        "'''TODO: identify the digit with the highest likelihood prediction for the first\n",
        "    image in the test dataset. '''\n",
        "predictions_value = predictions_test_image.cpu().detach().numpy() #.cpu() to copy tensor to memory first\n",
        "prediction =predictions_value.argmax()\n",
        "print(prediction)\n",
        "\n"
      ],
      "metadata": {
        "id": "aptrf3eYHB5B",
        "outputId": "5234d47a-c3af-4fb7-a2af-b7f354228e3b",
        "colab": {
          "base_uri": "https://localhost:8080/"
        }
      },
      "execution_count": 41,
      "outputs": [
        {
          "output_type": "stream",
          "name": "stdout",
          "text": [
            "51\n"
          ]
        }
      ]
    },
    {
      "cell_type": "code",
      "source": [
        "print(\"Label of this digit is:\", test_label)\n",
        "plt.imshow(test_image[0,0,:,:].cpu(), cmap=plt.cm.binary)\n",
        "comet_model_2.log_figure(figure=plt)"
      ],
      "metadata": {
        "id": "50A2QqUEHD4k",
        "outputId": "185a2c2b-b32f-4c1c-a92e-3762c63aa377",
        "colab": {
          "base_uri": "https://localhost:8080/",
          "height": 485
        }
      },
      "execution_count": 49,
      "outputs": [
        {
          "output_type": "stream",
          "name": "stdout",
          "text": [
            "Label of this digit is: tensor([7, 2, 1, 0, 4, 1, 4, 9, 5, 9, 0, 6, 9, 0, 1, 5, 9, 7, 3, 4, 9, 6, 6, 5,\n",
            "        4, 0, 7, 4, 0, 1, 3, 1, 3, 4, 7, 2, 7, 1, 2, 1, 1, 7, 4, 2, 3, 5, 1, 2,\n",
            "        4, 4, 6, 3, 5, 5, 6, 0, 4, 1, 9, 5, 7, 8, 9, 3], device='cuda:0')\n"
          ]
        },
        {
          "output_type": "display_data",
          "data": {
            "text/plain": [
              "<Figure size 640x480 with 1 Axes>"
            ],
            "image/png": "[encoded data removed]"
          },
          "metadata": {}
        }
      ]
    },
    {
      "cell_type": "code",
      "source": [
        "# Initialize variables to store all data\n",
        "all_predictions = []\n",
        "all_labels = []\n",
        "all_images = []\n",
        "\n",
        "# Process test set in batches\n",
        "with torch.no_grad():\n",
        "    for images, labels in testset_loader:\n",
        "        images, labels = images.to(device), labels.to(device)\n",
        "\n",
        "        outputs = cnn_model(images)\n",
        "\n",
        "        # Apply softmax to get probabilities from the predicted logits\n",
        "        probabilities = torch.nn.functional.softmax(outputs, dim=1)\n",
        "\n",
        "        # Get predicted classes\n",
        "        predicted = torch.argmax(probabilities, dim=1)\n",
        "\n",
        "        all_predictions.append(probabilities)\n",
        "        all_labels.append(labels)\n",
        "        all_images.append(images)\n",
        "\n",
        "all_predictions = torch.cat(all_predictions)  # Shape: (total_samples, num_classes)\n",
        "all_labels = torch.cat(all_labels)            # Shape: (total_samples,)\n",
        "all_images = torch.cat(all_images)            # Shape: (total_samples, 1, 28, 28)\n",
        "\n",
        "# Convert tensors to NumPy for compatibility with plotting functions\n",
        "predictions = all_predictions.cpu().numpy()  # Shape: (total_samples, num_classes)\n",
        "test_labels = all_labels.cpu().numpy()       # Shape: (total_samples,)\n",
        "test_images = all_images.cpu().numpy()       # Shape: (total_samples, 1, 28, 28)"
      ],
      "metadata": {
        "id": "Bfw8JGqgHFER"
      },
      "execution_count": 43,
      "outputs": []
    },
    {
      "cell_type": "code",
      "source": [
        "#@title Change the slider to look at the model's predictions! { run: \"auto\" }\n",
        "\n",
        "image_index = 38 #@param {type:\"slider\", min:0, max:100, step:1}\n",
        "plt.subplot(1,2,1)\n",
        "mdl.lab2.plot_image_prediction(image_index, predictions, test_labels, test_images)\n",
        "plt.subplot(1,2,2)\n",
        "mdl.lab2.plot_value_prediction(image_index, predictions, test_labels)\n",
        "comet_model_2.log_figure(figure=plt)"
      ],
      "metadata": {
        "id": "iQOlmnfWHIXO",
        "outputId": "70aa9ca9-17c5-4bbb-a4bd-93aadfb07dbf",
        "colab": {
          "base_uri": "https://localhost:8080/",
          "height": 406
        }
      },
      "execution_count": 46,
      "outputs": [
        {
          "output_type": "display_data",
          "data": {
            "text/plain": [
              "<Figure size 640x480 with 2 Axes>"
            ],
            "image/png": "[encoded data removed]"
          },
          "metadata": {}
        }
      ]
    },
    {
      "cell_type": "code",
      "source": [
        "# Plots the first X test images, their predicted label, and the true label\n",
        "# Color correct predictions in blue, incorrect predictions in red\n",
        "num_rows = 5\n",
        "num_cols = 4\n",
        "num_images = num_rows*num_cols\n",
        "plt.figure(figsize=(2*2*num_cols, 2*num_rows))\n",
        "for i in range(num_images):\n",
        "  plt.subplot(num_rows, 2*num_cols, 2*i+1)\n",
        "  mdl.lab2.plot_image_prediction(i, predictions, test_labels, test_images)\n",
        "  plt.subplot(num_rows, 2*num_cols, 2*i+2)\n",
        "  mdl.lab2.plot_value_prediction(i, predictions, test_labels)\n",
        "comet_model_2.log_figure(figure=plt)\n",
        "comet_model_2.end()"
      ],
      "metadata": {
        "id": "M5tGRj3_HJhm",
        "outputId": "793610ec-6d36-48ab-85b4-750714c8836d",
        "colab": {
          "base_uri": "https://localhost:8080/",
          "height": 651
        }
      },
      "execution_count": 45,
      "outputs": [
        {
          "output_type": "display_data",
          "data": {
            "text/plain": [
              "<Figure size 1600x1000 with 40 Axes>"
            ],
            "image/png": "[encoded data removed]"
          },
          "metadata": {}
        }
      ]
    }
  ],
  "metadata": {
    "accelerator": "GPU",
    "colab": {
      "collapsed_sections": [
        "Xmf_JRJa_N8C"
      ],
      "name": "PT_Part1_MNIST.ipynb",
      "provenance": [],
      "include_colab_link": true
    },
    "kernelspec": {
      "display_name": "Python 3",
      "name": "python3"
    },
    "language_info": {
      "codemirror_mode": {
        "name": "ipython",
        "version": 3
      },
      "file_extension": ".py",
      "mimetype": "text/x-python",
      "name": "python",
      "nbconvert_exporter": "python",
      "pygments_lexer": "ipython3",
      "version": "3.10.7"
    }
  },
  "nbformat": 4,
  "nbformat_minor": 0
}